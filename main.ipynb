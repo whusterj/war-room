{
 "cells": [
  {
   "cell_type": "markdown",
   "metadata": {},
   "source": [
    "# "
   ]
  },
  {
   "cell_type": "code",
   "execution_count": 53,
   "metadata": {},
   "outputs": [],
   "source": [
    "import numpy as np\n",
    "import pandas as pd\n",
    "import matplotlib.pyplot as plt"
   ]
  },
  {
   "cell_type": "markdown",
   "metadata": {},
   "source": [
    "## Step 1 - Set Up the Simulation\n",
    "\n",
    "Start by setting up the colors for the dice, the number of simulations we want to run, and the number of dice to roll per simulation.\n",
    "\n",
    "### Why Ten Dice per Roll?\n",
    "\n",
    "I've chosen to roll ten dice per simulation of a roll, because the game includes ten dice and the rules suggest that you roll in batches of ten. Because BLACK and WHITE results are wild, this fact can impact how many \"hits\" are actually allocatable vs ignored."
   ]
  },
  {
   "cell_type": "code",
   "execution_count": 54,
   "metadata": {},
   "outputs": [],
   "source": [
    "NUM_SIMULATIONS = 10000\n",
    "COLORS = (\"YELLOW\", \"BLUE\", \"GREEN\", \"RED\", \"BLACK\", \"WHITE\")\n",
    "COLOR_LOOKUP = {\n",
    "    \"YELLOW\": \"#BBBB77\",\n",
    "    \"BLUE\": \"#77AABB\",\n",
    "    \"GREEN\": \"#77BB77\",\n",
    "    \"RED\": \"#BB7777\",\n",
    "    \"BLACK\": \"#222222\",\n",
    "    \"WHITE\": \"#B0B0B0\"\n",
    "}\n",
    "DIE_FACES = [\n",
    "    \"YELLOW\",\n",
    "    \"YELLOW\",\n",
    "    \"YELLOW\",\n",
    "    \"YELLOW\",\n",
    "    \"BLUE\",\n",
    "    \"BLUE\",\n",
    "    \"BLUE\",\n",
    "    \"GREEN\",\n",
    "    \"GREEN\",\n",
    "    \"RED\",\n",
    "    \"BLACK\",\n",
    "    \"WHITE\"\n",
    "]\n",
    "NUM_DICE = 10"
   ]
  },
  {
   "cell_type": "markdown",
   "metadata": {},
   "source": [
    "## Step 2 - Generate Rolls for Each Simulation\n",
    "\n",
    "This is very straightforward in Python. We'll use numpy's `random.choice` function to simulate rolling ten die at once. All results are collected into a list of lists and then turned into a DataFrame so we can more easily manipulate and analyze the data."
   ]
  },
  {
   "cell_type": "code",
   "execution_count": 55,
   "metadata": {},
   "outputs": [
    {
     "data": {
      "text/html": [
       "<div>\n",
       "<style scoped>\n",
       "    .dataframe tbody tr th:only-of-type {\n",
       "        vertical-align: middle;\n",
       "    }\n",
       "\n",
       "    .dataframe tbody tr th {\n",
       "        vertical-align: top;\n",
       "    }\n",
       "\n",
       "    .dataframe thead th {\n",
       "        text-align: right;\n",
       "    }\n",
       "</style>\n",
       "<table border=\"1\" class=\"dataframe\">\n",
       "  <thead>\n",
       "    <tr style=\"text-align: right;\">\n",
       "      <th></th>\n",
       "      <th>0</th>\n",
       "      <th>1</th>\n",
       "      <th>2</th>\n",
       "      <th>3</th>\n",
       "      <th>4</th>\n",
       "      <th>5</th>\n",
       "      <th>6</th>\n",
       "      <th>7</th>\n",
       "      <th>8</th>\n",
       "      <th>9</th>\n",
       "    </tr>\n",
       "  </thead>\n",
       "  <tbody>\n",
       "    <tr>\n",
       "      <th>0</th>\n",
       "      <td>BLUE</td>\n",
       "      <td>YELLOW</td>\n",
       "      <td>YELLOW</td>\n",
       "      <td>RED</td>\n",
       "      <td>GREEN</td>\n",
       "      <td>YELLOW</td>\n",
       "      <td>YELLOW</td>\n",
       "      <td>BLUE</td>\n",
       "      <td>BLUE</td>\n",
       "      <td>GREEN</td>\n",
       "    </tr>\n",
       "    <tr>\n",
       "      <th>1</th>\n",
       "      <td>BLUE</td>\n",
       "      <td>BLUE</td>\n",
       "      <td>WHITE</td>\n",
       "      <td>GREEN</td>\n",
       "      <td>BLUE</td>\n",
       "      <td>GREEN</td>\n",
       "      <td>YELLOW</td>\n",
       "      <td>BLACK</td>\n",
       "      <td>BLUE</td>\n",
       "      <td>WHITE</td>\n",
       "    </tr>\n",
       "    <tr>\n",
       "      <th>2</th>\n",
       "      <td>YELLOW</td>\n",
       "      <td>BLACK</td>\n",
       "      <td>YELLOW</td>\n",
       "      <td>YELLOW</td>\n",
       "      <td>BLUE</td>\n",
       "      <td>GREEN</td>\n",
       "      <td>BLUE</td>\n",
       "      <td>GREEN</td>\n",
       "      <td>YELLOW</td>\n",
       "      <td>YELLOW</td>\n",
       "    </tr>\n",
       "    <tr>\n",
       "      <th>3</th>\n",
       "      <td>BLUE</td>\n",
       "      <td>BLUE</td>\n",
       "      <td>YELLOW</td>\n",
       "      <td>BLUE</td>\n",
       "      <td>RED</td>\n",
       "      <td>BLACK</td>\n",
       "      <td>BLUE</td>\n",
       "      <td>GREEN</td>\n",
       "      <td>BLUE</td>\n",
       "      <td>YELLOW</td>\n",
       "    </tr>\n",
       "    <tr>\n",
       "      <th>4</th>\n",
       "      <td>YELLOW</td>\n",
       "      <td>RED</td>\n",
       "      <td>GREEN</td>\n",
       "      <td>YELLOW</td>\n",
       "      <td>BLUE</td>\n",
       "      <td>YELLOW</td>\n",
       "      <td>WHITE</td>\n",
       "      <td>GREEN</td>\n",
       "      <td>YELLOW</td>\n",
       "      <td>WHITE</td>\n",
       "    </tr>\n",
       "    <tr>\n",
       "      <th>...</th>\n",
       "      <td>...</td>\n",
       "      <td>...</td>\n",
       "      <td>...</td>\n",
       "      <td>...</td>\n",
       "      <td>...</td>\n",
       "      <td>...</td>\n",
       "      <td>...</td>\n",
       "      <td>...</td>\n",
       "      <td>...</td>\n",
       "      <td>...</td>\n",
       "    </tr>\n",
       "    <tr>\n",
       "      <th>9995</th>\n",
       "      <td>BLACK</td>\n",
       "      <td>BLACK</td>\n",
       "      <td>RED</td>\n",
       "      <td>WHITE</td>\n",
       "      <td>BLUE</td>\n",
       "      <td>YELLOW</td>\n",
       "      <td>YELLOW</td>\n",
       "      <td>YELLOW</td>\n",
       "      <td>YELLOW</td>\n",
       "      <td>GREEN</td>\n",
       "    </tr>\n",
       "    <tr>\n",
       "      <th>9996</th>\n",
       "      <td>WHITE</td>\n",
       "      <td>YELLOW</td>\n",
       "      <td>WHITE</td>\n",
       "      <td>GREEN</td>\n",
       "      <td>RED</td>\n",
       "      <td>YELLOW</td>\n",
       "      <td>YELLOW</td>\n",
       "      <td>GREEN</td>\n",
       "      <td>WHITE</td>\n",
       "      <td>YELLOW</td>\n",
       "    </tr>\n",
       "    <tr>\n",
       "      <th>9997</th>\n",
       "      <td>GREEN</td>\n",
       "      <td>YELLOW</td>\n",
       "      <td>YELLOW</td>\n",
       "      <td>YELLOW</td>\n",
       "      <td>YELLOW</td>\n",
       "      <td>WHITE</td>\n",
       "      <td>YELLOW</td>\n",
       "      <td>BLUE</td>\n",
       "      <td>GREEN</td>\n",
       "      <td>YELLOW</td>\n",
       "    </tr>\n",
       "    <tr>\n",
       "      <th>9998</th>\n",
       "      <td>BLUE</td>\n",
       "      <td>BLACK</td>\n",
       "      <td>RED</td>\n",
       "      <td>BLACK</td>\n",
       "      <td>YELLOW</td>\n",
       "      <td>BLACK</td>\n",
       "      <td>RED</td>\n",
       "      <td>BLACK</td>\n",
       "      <td>YELLOW</td>\n",
       "      <td>GREEN</td>\n",
       "    </tr>\n",
       "    <tr>\n",
       "      <th>9999</th>\n",
       "      <td>YELLOW</td>\n",
       "      <td>BLACK</td>\n",
       "      <td>GREEN</td>\n",
       "      <td>BLUE</td>\n",
       "      <td>BLUE</td>\n",
       "      <td>YELLOW</td>\n",
       "      <td>GREEN</td>\n",
       "      <td>YELLOW</td>\n",
       "      <td>YELLOW</td>\n",
       "      <td>WHITE</td>\n",
       "    </tr>\n",
       "  </tbody>\n",
       "</table>\n",
       "<p>10000 rows × 10 columns</p>\n",
       "</div>"
      ],
      "text/plain": [
       "           0       1       2       3       4       5       6       7       8  \\\n",
       "0       BLUE  YELLOW  YELLOW     RED   GREEN  YELLOW  YELLOW    BLUE    BLUE   \n",
       "1       BLUE    BLUE   WHITE   GREEN    BLUE   GREEN  YELLOW   BLACK    BLUE   \n",
       "2     YELLOW   BLACK  YELLOW  YELLOW    BLUE   GREEN    BLUE   GREEN  YELLOW   \n",
       "3       BLUE    BLUE  YELLOW    BLUE     RED   BLACK    BLUE   GREEN    BLUE   \n",
       "4     YELLOW     RED   GREEN  YELLOW    BLUE  YELLOW   WHITE   GREEN  YELLOW   \n",
       "...      ...     ...     ...     ...     ...     ...     ...     ...     ...   \n",
       "9995   BLACK   BLACK     RED   WHITE    BLUE  YELLOW  YELLOW  YELLOW  YELLOW   \n",
       "9996   WHITE  YELLOW   WHITE   GREEN     RED  YELLOW  YELLOW   GREEN   WHITE   \n",
       "9997   GREEN  YELLOW  YELLOW  YELLOW  YELLOW   WHITE  YELLOW    BLUE   GREEN   \n",
       "9998    BLUE   BLACK     RED   BLACK  YELLOW   BLACK     RED   BLACK  YELLOW   \n",
       "9999  YELLOW   BLACK   GREEN    BLUE    BLUE  YELLOW   GREEN  YELLOW  YELLOW   \n",
       "\n",
       "           9  \n",
       "0      GREEN  \n",
       "1      WHITE  \n",
       "2     YELLOW  \n",
       "3     YELLOW  \n",
       "4      WHITE  \n",
       "...      ...  \n",
       "9995   GREEN  \n",
       "9996  YELLOW  \n",
       "9997  YELLOW  \n",
       "9998   GREEN  \n",
       "9999   WHITE  \n",
       "\n",
       "[10000 rows x 10 columns]"
      ]
     },
     "execution_count": 55,
     "metadata": {},
     "output_type": "execute_result"
    }
   ],
   "source": [
    "random_choices = []\n",
    "for _ in range(NUM_SIMULATIONS):\n",
    "    choices = np.random.choice(DIE_FACES, size=NUM_DICE)\n",
    "    random_choices.append(choices)\n",
    "\n",
    "df_random_choices = pd.DataFrame(random_choices)\n",
    "df_random_choices\n"
   ]
  },
  {
   "cell_type": "markdown",
   "metadata": {},
   "source": [
    "## Step 3 - Analyze the Results\n",
    "\n",
    "The proportions of colors on the dice are known, so the expected value for a given roll or set of rules is easy to compute and doesn't require a simulation.\n",
    "\n",
    "But what is less clear is the *variability* you might expect from each color, and also the aggregate impact of the wild BLACK and WHITE results. So here we look at the distribution by each color."
   ]
  },
  {
   "cell_type": "markdown",
   "metadata": {},
   "source": [
    "### Get and Graph a Distribution for a Color\n",
    "\n",
    "Here I'm just testing the steps required to aggregate the results of the simulations and plot the distribution of a single color."
   ]
  },
  {
   "cell_type": "code",
   "execution_count": 56,
   "metadata": {},
   "outputs": [
    {
     "data": {
      "text/plain": [
       "0       4\n",
       "1       1\n",
       "2       5\n",
       "3       2\n",
       "4       4\n",
       "       ..\n",
       "9995    4\n",
       "9996    4\n",
       "9997    6\n",
       "9998    2\n",
       "9999    4\n",
       "Length: 10000, dtype: int64"
      ]
     },
     "execution_count": 56,
     "metadata": {},
     "output_type": "execute_result"
    }
   ],
   "source": [
    "yellow_distribution = df_random_choices.apply(lambda row: row.value_counts().get('YELLOW', 0), axis=1)\n",
    "yellow_distribution"
   ]
  },
  {
   "cell_type": "code",
   "execution_count": 57,
   "metadata": {},
   "outputs": [
    {
     "data": {
      "text/plain": [
       "(array([1.850e+02, 8.600e+02, 1.911e+03, 2.601e+03, 2.285e+03, 1.378e+03,\n",
       "        5.790e+02, 1.620e+02, 3.700e+01, 2.000e+00]),\n",
       " array([0. , 0.9, 1.8, 2.7, 3.6, 4.5, 5.4, 6.3, 7.2, 8.1, 9. ]),\n",
       " <BarContainer object of 10 artists>)"
      ]
     },
     "execution_count": 57,
     "metadata": {},
     "output_type": "execute_result"
    },
    {
     "data": {
      "image/png": "[encoded data removed]",
      "text/plain": [
       "<Figure size 640x480 with 1 Axes>"
      ]
     },
     "metadata": {},
     "output_type": "display_data"
    }
   ],
   "source": [
    "plt.clf()\n",
    "plt.title(\"Distribution of YELLOW dice\")\n",
    "plt.hist(yellow_distribution, bins=df_random_choices.shape[1], color=COLOR_LOOKUP[\"YELLOW\"])"
   ]
  },
  {
   "cell_type": "markdown",
   "metadata": {},
   "source": [
    "### Aggregate and Plot All Colors\n",
    "\n",
    "With that figured out for yellow, we can put all colors on the same plot to see how they compare."
   ]
  },
  {
   "cell_type": "code",
   "execution_count": 58,
   "metadata": {},
   "outputs": [
    {
     "data": {
      "text/plain": [
       "<Figure size 640x480 with 0 Axes>"
      ]
     },
     "metadata": {},
     "output_type": "display_data"
    },
    {
     "data": {
      "image/png": "[encoded data removed]",
      "text/plain": [
       "<Figure size 1200x800 with 6 Axes>"
      ]
     },
     "metadata": {},
     "output_type": "display_data"
    }
   ],
   "source": [
    "plt.clf()\n",
    "\n",
    "fig, axes = plt.subplots(2, 3, figsize=(12, 8))\n",
    "axes = axes.flatten()\n",
    "\n",
    "for i, color in enumerate(COLORS):\n",
    "    distribution = df_random_choices.apply(lambda row: row.value_counts().get(color, 0), axis=1)\n",
    "    axes[i].hist(distribution, bins=range(df_random_choices.shape[1] + 1), color=COLOR_LOOKUP[color])\n",
    "    axes[i].set_title(f\"Distribution of {color} dice\")\n",
    "    axes[i].set_xlim(right=df_random_choices.shape[1])  # Set max value on x-axis\n",
    "\n",
    "plt.show()\n"
   ]
  },
  {
   "cell_type": "markdown",
   "metadata": {},
   "source": [
    "### What We See\n",
    "\n",
    "Distributions appear normally distributed around the expected value for their color. There's a slight skew, because the distributions are discrete and values can't go negative, but the shape is generally normal."
   ]
  },
  {
   "cell_type": "markdown",
   "metadata": {},
   "source": [
    "### Adding in White and Black Results\n",
    "\n",
    "This step is a bit tricky, and the results may not be entirely correct, depending on what you're looking to get out of the problem. My approach here is to add the wild results to all colors. Then we look at the 'before wilds' and 'after wilds' distributions for each color to see how BLACK and WHITE rolls impact the distribution of hits.\n",
    "\n",
    "In practice you can only apply a wild to one color, not all of them. So doing it this way overstates the total number of hits across all colors. So you should look at the 'after wilds' distributions as a sort of upper bound on the number of hits you might expect."
   ]
  },
  {
   "cell_type": "code",
   "execution_count": 59,
   "metadata": {},
   "outputs": [
    {
     "data": {
      "text/html": [
       "<div>\n",
       "<style scoped>\n",
       "    .dataframe tbody tr th:only-of-type {\n",
       "        vertical-align: middle;\n",
       "    }\n",
       "\n",
       "    .dataframe tbody tr th {\n",
       "        vertical-align: top;\n",
       "    }\n",
       "\n",
       "    .dataframe thead th {\n",
       "        text-align: right;\n",
       "    }\n",
       "</style>\n",
       "<table border=\"1\" class=\"dataframe\">\n",
       "  <thead>\n",
       "    <tr style=\"text-align: right;\">\n",
       "      <th></th>\n",
       "      <th>BLACK</th>\n",
       "      <th>BLUE</th>\n",
       "      <th>GREEN</th>\n",
       "      <th>RED</th>\n",
       "      <th>WHITE</th>\n",
       "      <th>YELLOW</th>\n",
       "    </tr>\n",
       "  </thead>\n",
       "  <tbody>\n",
       "    <tr>\n",
       "      <th>0</th>\n",
       "      <td>0.0</td>\n",
       "      <td>3.0</td>\n",
       "      <td>2.0</td>\n",
       "      <td>1.0</td>\n",
       "      <td>0.0</td>\n",
       "      <td>4.0</td>\n",
       "    </tr>\n",
       "    <tr>\n",
       "      <th>1</th>\n",
       "      <td>1.0</td>\n",
       "      <td>4.0</td>\n",
       "      <td>2.0</td>\n",
       "      <td>0.0</td>\n",
       "      <td>2.0</td>\n",
       "      <td>1.0</td>\n",
       "    </tr>\n",
       "    <tr>\n",
       "      <th>2</th>\n",
       "      <td>1.0</td>\n",
       "      <td>2.0</td>\n",
       "      <td>2.0</td>\n",
       "      <td>0.0</td>\n",
       "      <td>0.0</td>\n",
       "      <td>5.0</td>\n",
       "    </tr>\n",
       "    <tr>\n",
       "      <th>3</th>\n",
       "      <td>1.0</td>\n",
       "      <td>5.0</td>\n",
       "      <td>1.0</td>\n",
       "      <td>1.0</td>\n",
       "      <td>0.0</td>\n",
       "      <td>2.0</td>\n",
       "    </tr>\n",
       "    <tr>\n",
       "      <th>4</th>\n",
       "      <td>0.0</td>\n",
       "      <td>1.0</td>\n",
       "      <td>2.0</td>\n",
       "      <td>1.0</td>\n",
       "      <td>2.0</td>\n",
       "      <td>4.0</td>\n",
       "    </tr>\n",
       "    <tr>\n",
       "      <th>...</th>\n",
       "      <td>...</td>\n",
       "      <td>...</td>\n",
       "      <td>...</td>\n",
       "      <td>...</td>\n",
       "      <td>...</td>\n",
       "      <td>...</td>\n",
       "    </tr>\n",
       "    <tr>\n",
       "      <th>9995</th>\n",
       "      <td>2.0</td>\n",
       "      <td>1.0</td>\n",
       "      <td>1.0</td>\n",
       "      <td>1.0</td>\n",
       "      <td>1.0</td>\n",
       "      <td>4.0</td>\n",
       "    </tr>\n",
       "    <tr>\n",
       "      <th>9996</th>\n",
       "      <td>0.0</td>\n",
       "      <td>0.0</td>\n",
       "      <td>2.0</td>\n",
       "      <td>1.0</td>\n",
       "      <td>3.0</td>\n",
       "      <td>4.0</td>\n",
       "    </tr>\n",
       "    <tr>\n",
       "      <th>9997</th>\n",
       "      <td>0.0</td>\n",
       "      <td>1.0</td>\n",
       "      <td>2.0</td>\n",
       "      <td>0.0</td>\n",
       "      <td>1.0</td>\n",
       "      <td>6.0</td>\n",
       "    </tr>\n",
       "    <tr>\n",
       "      <th>9998</th>\n",
       "      <td>4.0</td>\n",
       "      <td>1.0</td>\n",
       "      <td>1.0</td>\n",
       "      <td>2.0</td>\n",
       "      <td>0.0</td>\n",
       "      <td>2.0</td>\n",
       "    </tr>\n",
       "    <tr>\n",
       "      <th>9999</th>\n",
       "      <td>1.0</td>\n",
       "      <td>2.0</td>\n",
       "      <td>2.0</td>\n",
       "      <td>0.0</td>\n",
       "      <td>1.0</td>\n",
       "      <td>4.0</td>\n",
       "    </tr>\n",
       "  </tbody>\n",
       "</table>\n",
       "<p>10000 rows × 6 columns</p>\n",
       "</div>"
      ],
      "text/plain": [
       "      BLACK  BLUE  GREEN  RED  WHITE  YELLOW\n",
       "0       0.0   3.0    2.0  1.0    0.0     4.0\n",
       "1       1.0   4.0    2.0  0.0    2.0     1.0\n",
       "2       1.0   2.0    2.0  0.0    0.0     5.0\n",
       "3       1.0   5.0    1.0  1.0    0.0     2.0\n",
       "4       0.0   1.0    2.0  1.0    2.0     4.0\n",
       "...     ...   ...    ...  ...    ...     ...\n",
       "9995    2.0   1.0    1.0  1.0    1.0     4.0\n",
       "9996    0.0   0.0    2.0  1.0    3.0     4.0\n",
       "9997    0.0   1.0    2.0  0.0    1.0     6.0\n",
       "9998    4.0   1.0    1.0  2.0    0.0     2.0\n",
       "9999    1.0   2.0    2.0  0.0    1.0     4.0\n",
       "\n",
       "[10000 rows x 6 columns]"
      ]
     },
     "execution_count": 59,
     "metadata": {},
     "output_type": "execute_result"
    }
   ],
   "source": [
    "df_by_color = df_random_choices.apply(lambda row: pd.Series(row.value_counts()).fillna(0), axis=1)\n",
    "df_by_color.fillna(0, inplace=True)\n",
    "df_by_color"
   ]
  },
  {
   "cell_type": "markdown",
   "metadata": {},
   "source": []
  },
  {
   "cell_type": "code",
   "execution_count": 60,
   "metadata": {},
   "outputs": [
    {
     "data": {
      "text/html": [
       "<div>\n",
       "<style scoped>\n",
       "    .dataframe tbody tr th:only-of-type {\n",
       "        vertical-align: middle;\n",
       "    }\n",
       "\n",
       "    .dataframe tbody tr th {\n",
       "        vertical-align: top;\n",
       "    }\n",
       "\n",
       "    .dataframe thead th {\n",
       "        text-align: right;\n",
       "    }\n",
       "</style>\n",
       "<table border=\"1\" class=\"dataframe\">\n",
       "  <thead>\n",
       "    <tr style=\"text-align: right;\">\n",
       "      <th></th>\n",
       "      <th>BLUE</th>\n",
       "      <th>GREEN</th>\n",
       "      <th>RED</th>\n",
       "      <th>YELLOW</th>\n",
       "    </tr>\n",
       "  </thead>\n",
       "  <tbody>\n",
       "    <tr>\n",
       "      <th>0</th>\n",
       "      <td>3.0</td>\n",
       "      <td>2.0</td>\n",
       "      <td>1.0</td>\n",
       "      <td>4.0</td>\n",
       "    </tr>\n",
       "    <tr>\n",
       "      <th>1</th>\n",
       "      <td>4.0</td>\n",
       "      <td>2.0</td>\n",
       "      <td>0.0</td>\n",
       "      <td>1.0</td>\n",
       "    </tr>\n",
       "    <tr>\n",
       "      <th>2</th>\n",
       "      <td>2.0</td>\n",
       "      <td>2.0</td>\n",
       "      <td>0.0</td>\n",
       "      <td>5.0</td>\n",
       "    </tr>\n",
       "    <tr>\n",
       "      <th>3</th>\n",
       "      <td>5.0</td>\n",
       "      <td>1.0</td>\n",
       "      <td>1.0</td>\n",
       "      <td>2.0</td>\n",
       "    </tr>\n",
       "    <tr>\n",
       "      <th>4</th>\n",
       "      <td>1.0</td>\n",
       "      <td>2.0</td>\n",
       "      <td>1.0</td>\n",
       "      <td>4.0</td>\n",
       "    </tr>\n",
       "    <tr>\n",
       "      <th>...</th>\n",
       "      <td>...</td>\n",
       "      <td>...</td>\n",
       "      <td>...</td>\n",
       "      <td>...</td>\n",
       "    </tr>\n",
       "    <tr>\n",
       "      <th>9995</th>\n",
       "      <td>1.0</td>\n",
       "      <td>1.0</td>\n",
       "      <td>1.0</td>\n",
       "      <td>4.0</td>\n",
       "    </tr>\n",
       "    <tr>\n",
       "      <th>9996</th>\n",
       "      <td>0.0</td>\n",
       "      <td>2.0</td>\n",
       "      <td>1.0</td>\n",
       "      <td>4.0</td>\n",
       "    </tr>\n",
       "    <tr>\n",
       "      <th>9997</th>\n",
       "      <td>1.0</td>\n",
       "      <td>2.0</td>\n",
       "      <td>0.0</td>\n",
       "      <td>6.0</td>\n",
       "    </tr>\n",
       "    <tr>\n",
       "      <th>9998</th>\n",
       "      <td>1.0</td>\n",
       "      <td>1.0</td>\n",
       "      <td>2.0</td>\n",
       "      <td>2.0</td>\n",
       "    </tr>\n",
       "    <tr>\n",
       "      <th>9999</th>\n",
       "      <td>2.0</td>\n",
       "      <td>2.0</td>\n",
       "      <td>0.0</td>\n",
       "      <td>4.0</td>\n",
       "    </tr>\n",
       "  </tbody>\n",
       "</table>\n",
       "<p>10000 rows × 4 columns</p>\n",
       "</div>"
      ],
      "text/plain": [
       "      BLUE  GREEN  RED  YELLOW\n",
       "0      3.0    2.0  1.0     4.0\n",
       "1      4.0    2.0  0.0     1.0\n",
       "2      2.0    2.0  0.0     5.0\n",
       "3      5.0    1.0  1.0     2.0\n",
       "4      1.0    2.0  1.0     4.0\n",
       "...    ...    ...  ...     ...\n",
       "9995   1.0    1.0  1.0     4.0\n",
       "9996   0.0    2.0  1.0     4.0\n",
       "9997   1.0    2.0  0.0     6.0\n",
       "9998   1.0    1.0  2.0     2.0\n",
       "9999   2.0    2.0  0.0     4.0\n",
       "\n",
       "[10000 rows x 4 columns]"
      ]
     },
     "execution_count": 60,
     "metadata": {},
     "output_type": "execute_result"
    }
   ],
   "source": [
    "df_black = df_by_color.pop(\"BLACK\")\n",
    "df_white = df_by_color.pop(\"WHITE\")\n",
    "df_by_color"
   ]
  },
  {
   "cell_type": "code",
   "execution_count": 61,
   "metadata": {},
   "outputs": [
    {
     "data": {
      "text/plain": [
       "0       0.0\n",
       "1       1.0\n",
       "2       1.0\n",
       "3       1.0\n",
       "4       0.0\n",
       "       ... \n",
       "9995    2.0\n",
       "9996    0.0\n",
       "9997    0.0\n",
       "9998    4.0\n",
       "9999    1.0\n",
       "Name: BLACK, Length: 10000, dtype: float64"
      ]
     },
     "execution_count": 61,
     "metadata": {},
     "output_type": "execute_result"
    }
   ],
   "source": [
    "df_black"
   ]
  },
  {
   "cell_type": "code",
   "execution_count": 62,
   "metadata": {},
   "outputs": [
    {
     "data": {
      "text/plain": [
       "0       0.0\n",
       "1       2.0\n",
       "2       0.0\n",
       "3       0.0\n",
       "4       2.0\n",
       "       ... \n",
       "9995    1.0\n",
       "9996    3.0\n",
       "9997    1.0\n",
       "9998    0.0\n",
       "9999    1.0\n",
       "Name: WHITE, Length: 10000, dtype: float64"
      ]
     },
     "execution_count": 62,
     "metadata": {},
     "output_type": "execute_result"
    }
   ],
   "source": [
    "df_white"
   ]
  },
  {
   "cell_type": "markdown",
   "metadata": {},
   "source": [
    "Next, add the BLACK results to each color. This can be done with simple matrix addition."
   ]
  },
  {
   "cell_type": "code",
   "execution_count": 63,
   "metadata": {},
   "outputs": [
    {
     "data": {
      "text/html": [
       "<div>\n",
       "<style scoped>\n",
       "    .dataframe tbody tr th:only-of-type {\n",
       "        vertical-align: middle;\n",
       "    }\n",
       "\n",
       "    .dataframe tbody tr th {\n",
       "        vertical-align: top;\n",
       "    }\n",
       "\n",
       "    .dataframe thead th {\n",
       "        text-align: right;\n",
       "    }\n",
       "</style>\n",
       "<table border=\"1\" class=\"dataframe\">\n",
       "  <thead>\n",
       "    <tr style=\"text-align: right;\">\n",
       "      <th></th>\n",
       "      <th>BLUE</th>\n",
       "      <th>GREEN</th>\n",
       "      <th>RED</th>\n",
       "      <th>YELLOW</th>\n",
       "    </tr>\n",
       "  </thead>\n",
       "  <tbody>\n",
       "    <tr>\n",
       "      <th>0</th>\n",
       "      <td>3.0</td>\n",
       "      <td>2.0</td>\n",
       "      <td>1.0</td>\n",
       "      <td>4.0</td>\n",
       "    </tr>\n",
       "    <tr>\n",
       "      <th>1</th>\n",
       "      <td>5.0</td>\n",
       "      <td>3.0</td>\n",
       "      <td>1.0</td>\n",
       "      <td>2.0</td>\n",
       "    </tr>\n",
       "    <tr>\n",
       "      <th>2</th>\n",
       "      <td>3.0</td>\n",
       "      <td>3.0</td>\n",
       "      <td>1.0</td>\n",
       "      <td>6.0</td>\n",
       "    </tr>\n",
       "    <tr>\n",
       "      <th>3</th>\n",
       "      <td>6.0</td>\n",
       "      <td>2.0</td>\n",
       "      <td>2.0</td>\n",
       "      <td>3.0</td>\n",
       "    </tr>\n",
       "    <tr>\n",
       "      <th>4</th>\n",
       "      <td>1.0</td>\n",
       "      <td>2.0</td>\n",
       "      <td>1.0</td>\n",
       "      <td>4.0</td>\n",
       "    </tr>\n",
       "    <tr>\n",
       "      <th>...</th>\n",
       "      <td>...</td>\n",
       "      <td>...</td>\n",
       "      <td>...</td>\n",
       "      <td>...</td>\n",
       "    </tr>\n",
       "    <tr>\n",
       "      <th>9995</th>\n",
       "      <td>3.0</td>\n",
       "      <td>3.0</td>\n",
       "      <td>3.0</td>\n",
       "      <td>6.0</td>\n",
       "    </tr>\n",
       "    <tr>\n",
       "      <th>9996</th>\n",
       "      <td>0.0</td>\n",
       "      <td>2.0</td>\n",
       "      <td>1.0</td>\n",
       "      <td>4.0</td>\n",
       "    </tr>\n",
       "    <tr>\n",
       "      <th>9997</th>\n",
       "      <td>1.0</td>\n",
       "      <td>2.0</td>\n",
       "      <td>0.0</td>\n",
       "      <td>6.0</td>\n",
       "    </tr>\n",
       "    <tr>\n",
       "      <th>9998</th>\n",
       "      <td>5.0</td>\n",
       "      <td>5.0</td>\n",
       "      <td>6.0</td>\n",
       "      <td>6.0</td>\n",
       "    </tr>\n",
       "    <tr>\n",
       "      <th>9999</th>\n",
       "      <td>3.0</td>\n",
       "      <td>3.0</td>\n",
       "      <td>1.0</td>\n",
       "      <td>5.0</td>\n",
       "    </tr>\n",
       "  </tbody>\n",
       "</table>\n",
       "<p>10000 rows × 4 columns</p>\n",
       "</div>"
      ],
      "text/plain": [
       "      BLUE  GREEN  RED  YELLOW\n",
       "0      3.0    2.0  1.0     4.0\n",
       "1      5.0    3.0  1.0     2.0\n",
       "2      3.0    3.0  1.0     6.0\n",
       "3      6.0    2.0  2.0     3.0\n",
       "4      1.0    2.0  1.0     4.0\n",
       "...    ...    ...  ...     ...\n",
       "9995   3.0    3.0  3.0     6.0\n",
       "9996   0.0    2.0  1.0     4.0\n",
       "9997   1.0    2.0  0.0     6.0\n",
       "9998   5.0    5.0  6.0     6.0\n",
       "9999   3.0    3.0  1.0     5.0\n",
       "\n",
       "[10000 rows x 4 columns]"
      ]
     },
     "execution_count": 63,
     "metadata": {},
     "output_type": "execute_result"
    }
   ],
   "source": [
    "df_by_color = df_by_color.add(df_black, axis=0)\n",
    "df_by_color\n"
   ]
  },
  {
   "cell_type": "markdown",
   "metadata": {},
   "source": [
    "Now add WHITE results. WHITE can only be applied to a unit that has already received a hit. A unit can potentially receive a hit from a same-colored result or a BLACK result. So before adding WHITE to each column, we clip the value based on the number of hits after adding black. This effectively ignores excess WHITE results that couldn't be paired with a colored or BLACK result.\n",
    "\n",
    "NOTE: It would be interesting to have a look at how many white results end up being ignored."
   ]
  },
  {
   "cell_type": "code",
   "execution_count": 64,
   "metadata": {},
   "outputs": [
    {
     "data": {
      "text/html": [
       "<div>\n",
       "<style scoped>\n",
       "    .dataframe tbody tr th:only-of-type {\n",
       "        vertical-align: middle;\n",
       "    }\n",
       "\n",
       "    .dataframe tbody tr th {\n",
       "        vertical-align: top;\n",
       "    }\n",
       "\n",
       "    .dataframe thead th {\n",
       "        text-align: right;\n",
       "    }\n",
       "</style>\n",
       "<table border=\"1\" class=\"dataframe\">\n",
       "  <thead>\n",
       "    <tr style=\"text-align: right;\">\n",
       "      <th></th>\n",
       "      <th>BLUE</th>\n",
       "      <th>GREEN</th>\n",
       "      <th>RED</th>\n",
       "      <th>YELLOW</th>\n",
       "    </tr>\n",
       "  </thead>\n",
       "  <tbody>\n",
       "    <tr>\n",
       "      <th>0</th>\n",
       "      <td>3.0</td>\n",
       "      <td>2.0</td>\n",
       "      <td>1.0</td>\n",
       "      <td>4.0</td>\n",
       "    </tr>\n",
       "    <tr>\n",
       "      <th>1</th>\n",
       "      <td>7.0</td>\n",
       "      <td>5.0</td>\n",
       "      <td>2.0</td>\n",
       "      <td>4.0</td>\n",
       "    </tr>\n",
       "    <tr>\n",
       "      <th>2</th>\n",
       "      <td>3.0</td>\n",
       "      <td>3.0</td>\n",
       "      <td>1.0</td>\n",
       "      <td>6.0</td>\n",
       "    </tr>\n",
       "    <tr>\n",
       "      <th>3</th>\n",
       "      <td>6.0</td>\n",
       "      <td>2.0</td>\n",
       "      <td>2.0</td>\n",
       "      <td>3.0</td>\n",
       "    </tr>\n",
       "    <tr>\n",
       "      <th>4</th>\n",
       "      <td>2.0</td>\n",
       "      <td>4.0</td>\n",
       "      <td>2.0</td>\n",
       "      <td>6.0</td>\n",
       "    </tr>\n",
       "    <tr>\n",
       "      <th>...</th>\n",
       "      <td>...</td>\n",
       "      <td>...</td>\n",
       "      <td>...</td>\n",
       "      <td>...</td>\n",
       "    </tr>\n",
       "    <tr>\n",
       "      <th>9995</th>\n",
       "      <td>4.0</td>\n",
       "      <td>4.0</td>\n",
       "      <td>4.0</td>\n",
       "      <td>7.0</td>\n",
       "    </tr>\n",
       "    <tr>\n",
       "      <th>9996</th>\n",
       "      <td>0.0</td>\n",
       "      <td>4.0</td>\n",
       "      <td>2.0</td>\n",
       "      <td>7.0</td>\n",
       "    </tr>\n",
       "    <tr>\n",
       "      <th>9997</th>\n",
       "      <td>2.0</td>\n",
       "      <td>3.0</td>\n",
       "      <td>0.0</td>\n",
       "      <td>7.0</td>\n",
       "    </tr>\n",
       "    <tr>\n",
       "      <th>9998</th>\n",
       "      <td>5.0</td>\n",
       "      <td>5.0</td>\n",
       "      <td>6.0</td>\n",
       "      <td>6.0</td>\n",
       "    </tr>\n",
       "    <tr>\n",
       "      <th>9999</th>\n",
       "      <td>4.0</td>\n",
       "      <td>4.0</td>\n",
       "      <td>2.0</td>\n",
       "      <td>6.0</td>\n",
       "    </tr>\n",
       "  </tbody>\n",
       "</table>\n",
       "<p>10000 rows × 4 columns</p>\n",
       "</div>"
      ],
      "text/plain": [
       "      BLUE  GREEN  RED  YELLOW\n",
       "0      3.0    2.0  1.0     4.0\n",
       "1      7.0    5.0  2.0     4.0\n",
       "2      3.0    3.0  1.0     6.0\n",
       "3      6.0    2.0  2.0     3.0\n",
       "4      2.0    4.0  2.0     6.0\n",
       "...    ...    ...  ...     ...\n",
       "9995   4.0    4.0  4.0     7.0\n",
       "9996   0.0    4.0  2.0     7.0\n",
       "9997   2.0    3.0  0.0     7.0\n",
       "9998   5.0    5.0  6.0     6.0\n",
       "9999   4.0    4.0  2.0     6.0\n",
       "\n",
       "[10000 rows x 4 columns]"
      ]
     },
     "execution_count": 64,
     "metadata": {},
     "output_type": "execute_result"
    }
   ],
   "source": [
    "for color in df_by_color.columns:\n",
    "    df_white_color = df_white.copy().clip(upper=df_by_color[color])\n",
    "    df_by_color[color] += df_white_color\n",
    "\n",
    "df_by_color"
   ]
  },
  {
   "cell_type": "markdown",
   "metadata": {},
   "source": [
    "### Before and After Wilds Comparison\n",
    "\n",
    "Now we'll re-chart our color distributions from before and compare them to the adjusted distributions after adding BLACK and WHITE results..."
   ]
  },
  {
   "cell_type": "code",
   "execution_count": 65,
   "metadata": {},
   "outputs": [
    {
     "data": {
      "text/plain": [
       "<Figure size 640x480 with 0 Axes>"
      ]
     },
     "metadata": {},
     "output_type": "display_data"
    },
    {
     "data": {
      "image/png": "[encoded data removed]",
      "text/plain": [
       "<Figure size 1200x800 with 4 Axes>"
      ]
     },
     "metadata": {},
     "output_type": "display_data"
    }
   ],
   "source": [
    "plt.clf()\n",
    "\n",
    "fig, axes = plt.subplots(2, 2, figsize=(12, 8))\n",
    "axes = axes.flatten()\n",
    "\n",
    "for i, color in enumerate([\"YELLOW\", \"BLUE\", \"GREEN\", \"RED\"]):\n",
    "    distribution = df_random_choices.apply(lambda row: row.value_counts().get(color, 0), axis=1)\n",
    "    axes[i].hist(distribution, bins=range(df_random_choices.shape[1] + 1), color=COLOR_LOOKUP[color])\n",
    "    axes[i].set_title(f\"Distribution of {color} dice\")\n",
    "    axes[i].set_xlim(right=df_random_choices.shape[1])  # Set max value on x-axis\n",
    "\n",
    "plt.suptitle(\"Before adding black and white dice\")\n",
    "plt.show()"
   ]
  },
  {
   "cell_type": "code",
   "execution_count": 66,
   "metadata": {},
   "outputs": [
    {
     "data": {
      "text/plain": [
       "<Figure size 640x480 with 0 Axes>"
      ]
     },
     "metadata": {},
     "output_type": "display_data"
    },
    {
     "data": {
      "image/png": "[encoded data removed]",
      "text/plain": [
       "<Figure size 1200x800 with 4 Axes>"
      ]
     },
     "metadata": {},
     "output_type": "display_data"
    }
   ],
   "source": [
    "plt.clf()\n",
    "\n",
    "fig, axes = plt.subplots(2, 2, figsize=(12, 8))\n",
    "axes = axes.flatten()\n",
    "\n",
    "for i, color in enumerate([\"YELLOW\", \"BLUE\", \"GREEN\", \"RED\"]):\n",
    "    axes[i].hist(df_by_color[color], bins=range(df_random_choices.shape[1] + 1), color=COLOR_LOOKUP[color])\n",
    "    axes[i].set_title(f\"Distribution of {color} dice\")\n",
    "    axes[i].set_xlim(right=df_random_choices.shape[1])  # Set max value on x-axis\n",
    "\n",
    "plt.suptitle(\"After adding black and white dice\")\n",
    "plt.show()"
   ]
  },
  {
   "cell_type": "markdown",
   "metadata": {},
   "source": [
    "### Wild Results Have a Decent Impact\n",
    "\n",
    "So it looks like adding in wild results has shifted each distribution up by a little less than two hits. This is to be expected, because both BLACK and WHITE have a 1:12 chance of being rolled, and white is slightly discounted, because it may not always be allocatable.\n",
    "\n",
    "The impact is most pronounced on green and red. This is because their odds have been improved by a lot: 2X in the case of green (from 2:12 -> ~4:12) and 3X in the case of red (from 1:12 -> ~3:12).\n",
    "\n",
    "Again, this effectively shows the maximum number of hits you *might* be able to allocate to each indvidual color. In a real game BLACK and WHITE results won't shift all of the colors up by the same amount, because you can only apply a wild to one color at a time. But presumably you would allocate the wild to the color that would benefit the most from it, so this is a reasonable upper bound on the number of hits you might expect to allocate to each color."
   ]
  },
  {
   "cell_type": "markdown",
   "metadata": {},
   "source": [
    "## Part 2 - Modeling the Probabilities in \"Pure Math\"\n",
    "\n",
    "I'm very familiar with simulation approaches at this point. Practical and imperative math like this also makes a lot of sense to me as a programmer.\n",
    "\n",
    "Now I'd like to take a more mathematical appraoch to the problem, which is not as natural to me.\n",
    "\n",
    "I was trying to derive the formula myself while in the shower. It's clear that it's not as simple as looking at the probability of rolling a single color. We need to look at combined probabilities across any number of rolls.\n",
    "\n",
    "I started by thinking about a specific case: how would you compute the probability that you could roll ten times and end up with zero yellow results? I *know* I studied this back in high school math, but twenty years later it's not exactly top of mind.\n",
    "\n",
    "I realized that the probability of having no yellow results is the same as rolling non-yellow ten times in a row. That would be something like $(8/12)^10$. Not math I can do in my head, but definitely a small number. Using a calculator, there's about a 1.7% chance of this happening. Makes sense.\n",
    "\n",
    "Then I moved on to the probability of having one out of ten results be yellow, and here I realized that I needed to somehow combine the probability of success with the probability of failure. That's where I got stuck mentally.\n",
    "\n",
    "### Computing the Binomial Distribution\n",
    "\n",
    "So I turned to Google and ChatGPT who pointed me at the Binomial Probability formula, which I can use to compute a Binomial Distribution for a given number of dice rolls and a given probability of success.\n",
    "\n",
    "The formula for Binomial Probability is:\n",
    "\n",
    "$$P(X = k) = \\binom{n}{k} \\times p^k \\times (1-p)^{n-k}$$\n",
    "\n",
    "where:\n",
    "- $n$ is the number of trials (number of die rolls)\n",
    "- $k$ is the number of successful outcomes (rolling a particular color)\n",
    "- $p$ is the probability of success on a single trial\n",
    "- $\\binom{n}{k}$ represents the binomial coefficient, which is the number of ways to choose $k$ successes out of $n$ trials"
   ]
  },
  {
   "cell_type": "markdown",
   "metadata": {},
   "source": [
    "My recollection of this formula is vague. Looking at it closely, I see that my intuitions were correct. The formula is basically using multiplication to combine the probability of getting $k$ successes with the probability of getting $n-k$ failures.\n",
    "\n",
    "The big piece I was missing and failed to derive for myself was the binomial coefficient.\n",
    "\n",
    "### The Binomial Coefficient\n",
    "\n",
    "The binomial coefficient is the piece I was missing working through this problem in my head. This is how we can combine the probability $p^k$ of getting $k$ successes with the probability $(1-p)^{n-k}$ of getting $n-k$ failures.\n",
    "\n",
    "The formula for the binomial coefficient is given by:\n",
    "\n",
    "$$\\binom{n}{k} = \\frac{n!}{k! \\cdot (n-k)!}$$\n",
    "\n",
    "where:\n",
    "- $n!$ denotes the factorial of $n$\n",
    "- $k!$ denotes the factorial of $k$\n",
    "- $(n-k)!$ denotes the factorial of $n-k$\n",
    "\n",
    "#### Binomial Coefficient in Python\n",
    "\n",
    "In Python we could implement a function that computes the binomial coefficient exactly as represented above using `math.factorial`. Python makes it even easier by providing this function in the standard library as `math.comb`.\n",
    "\n",
    "Remembering that in our case $n$ is the number of dice rolls and $k$ is the number of rolls of a particular color. We can hold $n$ steady at 10 and see how the coefficient varies with $k$. So let's use `NUM_DICE` as $n$ from our simulations above. Then we'll step through every possible value of $k$ successful roles. That's the set of ${0, 1, 2 ... 10}$."
   ]
  },
  {
   "cell_type": "code",
   "execution_count": 67,
   "metadata": {},
   "outputs": [
    {
     "name": "stdout",
     "output_type": "stream",
     "text": [
      "0 1\n",
      "1 10\n",
      "2 45\n",
      "3 120\n",
      "4 210\n",
      "5 252\n",
      "6 210\n",
      "7 120\n",
      "8 45\n",
      "9 10\n",
      "10 1\n"
     ]
    }
   ],
   "source": [
    "import math\n",
    "\n",
    "n = NUM_DICE\n",
    "for k in range(n + 1):\n",
    "    print(k, math.comb(n, k))"
   ]
  },
  {
   "cell_type": "markdown",
   "metadata": {},
   "source": [
    "So here we can see the rise and fall of the distribution in number form. It is centered around 5, because at this point we have not introduced any probabilities.\n",
    "\n",
    "We can see that it in the binomial probability formula, this binomial coefficient functions to increase the \"weight\" of the success case against the failure case. At the center of the distribution it is a heavy weight, indeed. It multiplies the probability of the success case by up to 252 times!"
   ]
  },
  {
   "cell_type": "markdown",
   "metadata": {},
   "source": [
    "Now let's put it all together in Python and make some more plots...\n",
    "\n",
    "First, we'll define a function for binomial probability, based on the formula above and using `math.comb` again for the binomial coefficient."
   ]
  },
  {
   "cell_type": "code",
   "execution_count": 68,
   "metadata": {},
   "outputs": [],
   "source": [
    "def binomial_probability(n, k, p):\n",
    "    return math.comb(n, k) * pow(p, k) * pow(1 - p, n - k)"
   ]
  },
  {
   "cell_type": "markdown",
   "metadata": {},
   "source": [
    "Now, let's set up $n$ and $p_yellow$ then compute the binomial distribution for yellow."
   ]
  },
  {
   "cell_type": "code",
   "execution_count": 69,
   "metadata": {},
   "outputs": [
    {
     "data": {
      "text/plain": [
       "[(0, 0.017341529915832633),\n",
       " (1, 0.08670764957916315),\n",
       " (2, 0.19509221155311707),\n",
       " (3, 0.26012294873748937),\n",
       " (4, 0.22760758014530316),\n",
       " (5, 0.13656454808718185),\n",
       " (6, 0.05690189503632578),\n",
       " (7, 0.016257684296093075),\n",
       " (8, 0.0030483158055174507),\n",
       " (9, 0.0003387017561686056),\n",
       " (10, 1.693508780843028e-05)]"
      ]
     },
     "execution_count": 69,
     "metadata": {},
     "output_type": "execute_result"
    }
   ],
   "source": [
    "n = NUM_DICE\n",
    "p_yellow = 4 / 12\n",
    "\n",
    "yellow_binom_dist = list((k, binomial_probability(n, k, p_yellow)) for k in range(n + 1))\n",
    "yellow_binom_dist"
   ]
  },
  {
   "cell_type": "markdown",
   "metadata": {},
   "source": [
    "Again, we see the rise and fall of the distribution in number form and that the peak is slightly shifted towards zero and centered on 3-4 successes, as we saw in the earlier simulation and would expect from the underlying probabilities.\n",
    "\n",
    "We also see that the probabilities sum to 1.0 (allowing for some floating point error):"
   ]
  },
  {
   "cell_type": "code",
   "execution_count": 70,
   "metadata": {},
   "outputs": [
    {
     "data": {
      "text/plain": [
       "1.0000000000000007"
      ]
     },
     "execution_count": 70,
     "metadata": {},
     "output_type": "execute_result"
    }
   ],
   "source": [
    "sum(prob for k, prob in yellow_binom_dist)"
   ]
  },
  {
   "cell_type": "markdown",
   "metadata": {},
   "source": [
    "Now let's plot this distribution side-by-side with the simulation results from earlier:"
   ]
  },
  {
   "cell_type": "code",
   "execution_count": 79,
   "metadata": {},
   "outputs": [
    {
     "data": {
      "text/plain": [
       "<Figure size 640x480 with 0 Axes>"
      ]
     },
     "metadata": {},
     "output_type": "display_data"
    },
    {
     "data": {
      "image/png": "[encoded data removed]",
      "text/plain": [
       "<Figure size 1200x600 with 2 Axes>"
      ]
     },
     "metadata": {},
     "output_type": "display_data"
    }
   ],
   "source": [
    "plt.clf()\n",
    "\n",
    "fig, axes = plt.subplots(1, 2, figsize=(12, 6))\n",
    "axes = axes.flatten()\n",
    "\n",
    "x_values, y_values = zip(*yellow_binom_dist)\n",
    "axes[0].set_title(\"Probability Distribution of YELLOW results\")\n",
    "axes[0].bar(x_values, y_values, align='center', color=COLOR_LOOKUP[\"YELLOW\"], width=1)\n",
    "\n",
    "axes[1].set_title(f\"Sim Distribution of YELLOW dice\")\n",
    "axes[1].hist(yellow_distribution, bins=10, color=COLOR_LOOKUP[\"YELLOW\"])\n",
    "axes[1].set_xlim(right=10)\n",
    "\n",
    "plt.suptitle(\"Side-by-side comparison of binomial and simulated distributions\")\n",
    "plt.show()"
   ]
  },
  {
   "cell_type": "markdown",
   "metadata": {},
   "source": [
    "As expected, the distributions look identical!"
   ]
  },
  {
   "cell_type": "markdown",
   "metadata": {},
   "source": [
    "### Wild Results - How to Sum Binomial Distributions"
   ]
  }
 ],
 "metadata": {
  "kernelspec": {
   "display_name": ".venv",
   "language": "python",
   "name": "python3"
  },
  "language_info": {
   "codemirror_mode": {
    "name": "ipython",
    "version": 3
   },
   "file_extension": ".py",
   "mimetype": "text/x-python",
   "name": "python",
   "nbconvert_exporter": "python",
   "pygments_lexer": "ipython3",
   "version": "3.10.13"
  }
 },
 "nbformat": 4,
 "nbformat_minor": 2
}
