{
 "cells": [
  {
   "cell_type": "markdown",
   "metadata": {},
   "source": [
    "## How to Include the Probability of WHITE Results\n",
    "\n",
    "Possible solutions (may not be trivial...):\n",
    "- [Compound probability distribution](https://en.wikipedia.org/wiki/Compound_probability_distribution)\n",
    "- [Beta-binomial](https://en.wikipedia.org/wiki/Beta-binomial_distribution)\n",
    "\n",
    "In the main notebook I put together a binomial probability formulation for computing the probability distribution for a given color. To this I added the probability of rolling a \"wild\" BLACK result.\n",
    "\n",
    "The next step is to add WHITE results, but this seems pretty tricky, and I have not had time to figure out the mathematical formulation for this.\n",
    "\n",
    "It's tricky because WHITE results are *not* independent of YELLOW and BLACK results. They can only be counted in cases where one of the others is already present. In the simulation I accounted for this by clipping the number of WHITE results based on the number of hits after adding BLACK results.\n",
    "\n",
    "If I have time I'll revisit this."
   ]
  },
  {
   "cell_type": "markdown",
   "metadata": {},
   "source": [
    "### First Attempts\n",
    "\n",
    "Let's think this through case by case...\n",
    "\n",
    "When $k=0$, there is still only one way to arrive at this, because any combination of non-yellow and non-black dice will result in 0 hits, even if some of those are white.\n",
    "\n",
    "In the case of $k=1$, there are still only ten ways this can happen, because there are only ten combinations of yellow or black dice. White cannot count in this case.\n",
    "\n",
    "Things get interesting in the case of $k=2$ and above. Here the combinations computed by the binomial coefficient will need to be altered. The number of valid combinations for each value $k$ should increase, I think."
   ]
  },
  {
   "cell_type": "markdown",
   "metadata": {},
   "source": [
    "We can simplify this by looking at valid combinations where $n=2$ where WHITE results can count.\n",
    "\n",
    "When $k=0$, there is only one valid permutation out of nine total:\n",
    "\n",
    "```text\n",
    "(MISS,   MISS)  VALID\n",
    "(MISS,   YB)\n",
    "(MISS,   WHITE)\n",
    "(YB,     MISS)\n",
    "(YB,     YB)\n",
    "(YB,     WHITE)\n",
    "(WHITE,  MISS)\n",
    "(WHITE,  YB)\n",
    "(WHITE,  WHITE)\n",
    "```\n",
    "\n",
    "When $k=1$ there are two out of nine:\n",
    "\n",
    "```text\n",
    "(MISS,   MISS)\n",
    "(MISS,   YB)     VALID\n",
    "(MISS,   WHITE)\n",
    "(YB,     MISS)   VALID\n",
    "(YB,     YB)\n",
    "(YB,     WHITE)\n",
    "(WHITE,  MISS)\n",
    "(WHITE,  YB)\n",
    "(WHITE,  WHITE)\n",
    "```\n",
    "\n",
    "When $k=2$ there is again one if we don't count whites.\n",
    "\n",
    "```text\n",
    "(MISS,   MISS)\n",
    "(MISS,   YB)\n",
    "(MISS,   WHITE)\n",
    "(YB,     MISS)\n",
    "(YB,     YB)     VALID\n",
    "(YB,     WHITE)\n",
    "(WHITE,  MISS)\n",
    "(WHITE,  YB)\n",
    "(WHITE,  WHITE)\n",
    "```\n",
    "\n",
    "But if we can count white, then the possible permutations increases to three:\n",
    "\n",
    "```text\n",
    "(MISS,   MISS)\n",
    "(MISS,   YB)\n",
    "(MISS,   WHITE)\n",
    "(YB,     MISS)\n",
    "(YB,     YB)     VALID\n",
    "(YB,     WHITE)  VALID\n",
    "(WHITE,  MISS)\n",
    "(WHITE,  YB)     VALID\n",
    "(WHITE,  WHITE)\n",
    "```\n",
    "\n",
    "Note that this doesn't affect any other case, because WHITE can only count in combination with a YELLOW or BLACK.\n",
    "\n",
    "So let's start by seeing how we can model the total possible permutations. It's pretty clear that this is $3^2$ - three options to the power of two rolls."
   ]
  },
  {
   "cell_type": "code",
   "execution_count": null,
   "metadata": {
    "vscode": {
     "languageId": "plaintext"
    }
   },
   "outputs": [],
   "source": [
    "pow(3,2)"
   ]
  },
  {
   "cell_type": "markdown",
   "metadata": {},
   "source": [
    "So for ten rolls, we would expect this total for possible permutations:"
   ]
  },
  {
   "cell_type": "code",
   "execution_count": null,
   "metadata": {
    "vscode": {
     "languageId": "plaintext"
    }
   },
   "outputs": [],
   "source": [
    "pow(3, 10)"
   ]
  },
  {
   "cell_type": "markdown",
   "metadata": {},
   "source": [
    "Yeah, no way I'm going to list all those cases out by hand."
   ]
  }
 ],
 "metadata": {
  "language_info": {
   "name": "python"
  }
 },
 "nbformat": 4,
 "nbformat_minor": 2
}
