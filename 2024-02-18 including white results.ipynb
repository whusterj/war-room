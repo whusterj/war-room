{
 "cells": [
  {
   "cell_type": "markdown",
   "metadata": {},
   "source": [
    "## How to Include the Probability of WHITE Results\n",
    "\n",
    "Possible solutions (may not be trivial...):\n",
    "- [Compound probability distribution](https://en.wikipedia.org/wiki/Compound_probability_distribution)\n",
    "- [Beta-binomial](https://en.wikipedia.org/wiki/Beta-binomial_distribution)\n",
    "\n",
    "In the main notebook I put together a binomial probability formulation for computing the probability distribution for a given color. To this I added the probability of rolling a \"wild\" BLACK result.\n",
    "\n",
    "The next step is to add WHITE results, but this seems pretty tricky, and I have not had time to figure out the mathematical formulation for this.\n",
    "\n",
    "It's tricky because WHITE results are *not* independent of YELLOW and BLACK results. They can only be counted in cases where one of the others is already present. In the simulation I accounted for this by clipping the number of WHITE results based on the number of hits after adding BLACK results.\n",
    "\n",
    "If I have time I'll revisit this."
   ]
  },
  {
   "cell_type": "markdown",
   "metadata": {},
   "source": [
    "### First Attempts\n",
    "\n",
    "Let's think this through case by case...\n",
    "\n",
    "When $k=0$, there is still only one way to arrive at this, because any combination of non-yellow and non-black dice will result in 0 hits, even if some of those are white.\n",
    "\n",
    "In the case of $k=1$, there are still only ten ways this can happen, because there are only ten combinations of yellow or black dice. White cannot count in this case.\n",
    "\n",
    "Things get interesting in the case of $k=2$ and above. Here the combinations computed by the binomial coefficient will need to be altered. The number of valid combinations for each value $k$ should increase, I think."
   ]
  },
  {
   "cell_type": "markdown",
   "metadata": {},
   "source": [
    "We can simplify this by looking at valid combinations where $n=2$ where WHITE results can count.\n",
    "\n",
    "When $k=0$, there is only one valid permutation out of nine total:\n",
    "\n",
    "```text\n",
    "(MISS,   MISS)  VALID\n",
    "(MISS,   YB)\n",
    "(MISS,   WHITE)\n",
    "(YB,     MISS)\n",
    "(YB,     YB)\n",
    "(YB,     WHITE)\n",
    "(WHITE,  MISS)\n",
    "(WHITE,  YB)\n",
    "(WHITE,  WHITE)\n",
    "```\n",
    "\n",
    "When $k=1$ there are two out of nine:\n",
    "\n",
    "```text\n",
    "(MISS,   MISS)\n",
    "(MISS,   YB)     VALID\n",
    "(MISS,   WHITE)\n",
    "(YB,     MISS)   VALID\n",
    "(YB,     YB)\n",
    "(YB,     WHITE)\n",
    "(WHITE,  MISS)\n",
    "(WHITE,  YB)\n",
    "(WHITE,  WHITE)\n",
    "```\n",
    "\n",
    "When $k=2$ there is again one if we don't count whites.\n",
    "\n",
    "```text\n",
    "(MISS,   MISS)\n",
    "(MISS,   YB)\n",
    "(MISS,   WHITE)\n",
    "(YB,     MISS)\n",
    "(YB,     YB)     VALID\n",
    "(YB,     WHITE)\n",
    "(WHITE,  MISS)\n",
    "(WHITE,  YB)\n",
    "(WHITE,  WHITE)\n",
    "```\n",
    "\n",
    "But if we can count white, then the possible permutations increases to three:\n",
    "\n",
    "```text\n",
    "(MISS,   MISS)\n",
    "(MISS,   YB)\n",
    "(MISS,   WHITE)\n",
    "(YB,     MISS)\n",
    "(YB,     YB)     VALID\n",
    "(YB,     WHITE)  VALID\n",
    "(WHITE,  MISS)\n",
    "(WHITE,  YB)     VALID\n",
    "(WHITE,  WHITE)\n",
    "```\n",
    "\n",
    "Note that this doesn't affect any other case, because WHITE can only count in combination with a YELLOW or BLACK.\n",
    "\n",
    "So let's start by seeing how we can model the total possible permutations. It's pretty clear that this is $3^2$ - three options to the power of two rolls."
   ]
  },
  {
   "cell_type": "code",
   "execution_count": 1,
   "metadata": {},
   "outputs": [
    {
     "data": {
      "text/plain": [
       "9"
      ]
     },
     "execution_count": 1,
     "metadata": {},
     "output_type": "execute_result"
    }
   ],
   "source": [
    "pow(3,2)"
   ]
  },
  {
   "cell_type": "markdown",
   "metadata": {},
   "source": [
    "So for ten rolls, we would expect this total for possible permutations:"
   ]
  },
  {
   "cell_type": "code",
   "execution_count": 2,
   "metadata": {},
   "outputs": [
    {
     "data": {
      "text/plain": [
       "59049"
      ]
     },
     "execution_count": 2,
     "metadata": {},
     "output_type": "execute_result"
    }
   ],
   "source": [
    "pow(3, 10)"
   ]
  },
  {
   "cell_type": "markdown",
   "metadata": {},
   "source": [
    "Yeah, no way I'm going to list all those cases out by hand."
   ]
  },
  {
   "cell_type": "code",
   "execution_count": 3,
   "metadata": {},
   "outputs": [],
   "source": [
    "import math\n",
    "\n",
    "n = 10\n",
    "yb_prob = 5/12\n",
    "wh_prob = 1/12"
   ]
  },
  {
   "cell_type": "code",
   "execution_count": 4,
   "metadata": {},
   "outputs": [],
   "source": [
    "def bprob(n, k, p):\n",
    "    return math.comb(n, k) * pow(p, k) * pow(1 - p, n - k)"
   ]
  },
  {
   "cell_type": "markdown",
   "metadata": {},
   "source": [
    "k=2 Unique cases:\n",
    "- 8 are MISS, 2 are YELLOW\n",
    "- 8 are MISS, 1 is YELLOW, 1 is BLACK\n",
    "- 8 are MISS, 1 is YELLOW, 1 is WHITE"
   ]
  },
  {
   "cell_type": "code",
   "execution_count": 5,
   "metadata": {},
   "outputs": [],
   "source": [
    "distro = []"
   ]
  },
  {
   "cell_type": "code",
   "execution_count": 6,
   "metadata": {},
   "outputs": [],
   "source": [
    "# k = 0\n",
    "distro.append((\n",
    "    0,\n",
    "    bprob(10, 0, yb_prob)\n",
    "))"
   ]
  },
  {
   "cell_type": "code",
   "execution_count": 7,
   "metadata": {},
   "outputs": [],
   "source": [
    "# k = 1\n",
    "distro.append((\n",
    "    1,\n",
    "    bprob(10, 1, yb_prob)\n",
    "))"
   ]
  },
  {
   "cell_type": "code",
   "execution_count": 8,
   "metadata": {},
   "outputs": [
    {
     "data": {
      "text/plain": [
       "[(0, 0.004562132974169925), (1, 0.03258666410121376), (2, 0.17040906601732964)]"
      ]
     },
     "execution_count": 8,
     "metadata": {},
     "output_type": "execute_result"
    }
   ],
   "source": [
    "# k = 2\n",
    "distro.append((\n",
    "    2,\n",
    "    (     bprob(10, 2, yb_prob)\n",
    "     \n",
    "        + bprob(10, 1, yb_prob)\n",
    "        + bprob( 9, 1, wh_prob)\n",
    "    ) / 3\n",
    "))\n",
    "# bprob( 9, 1, wh_prob)\n",
    "# bprob(10, 1, yb_prob)\n",
    "# bprob(10, 2, yb_prob)\n",
    "\n",
    "distro"
   ]
  },
  {
   "cell_type": "code",
   "execution_count": 9,
   "metadata": {},
   "outputs": [],
   "source": [
    "# k = 2\n",
    "distro.append((\n",
    "    3,\n",
    "    (     bprob(10, 3, yb_prob)\n",
    "\n",
    "        + bprob( 8, 2, yb_prob)\n",
    "        + bprob( 9, 1, wh_prob)) / 3\n",
    "))"
   ]
  },
  {
   "cell_type": "code",
   "execution_count": 10,
   "metadata": {},
   "outputs": [],
   "source": [
    "# k = 4\n",
    "distro.append((\n",
    "    4,\n",
    "    (     bprob(10, 4, yb_prob)\n",
    "    \n",
    "        + bprob(10, 3, yb_prob)\n",
    "        + bprob( 7, 1, wh_prob)\n",
    "\n",
    "        + bprob(10, 2, yb_prob)\n",
    "        + bprob( 8, 2, wh_prob)) / 5\n",
    "))"
   ]
  },
  {
   "cell_type": "code",
   "execution_count": 11,
   "metadata": {},
   "outputs": [],
   "source": [
    "# k = 5\n",
    "distro.append((\n",
    "    5,\n",
    "    (     bprob(10, 5, yb_prob)\n",
    "    \n",
    "        + bprob(10, 4, yb_prob)\n",
    "        + bprob( 6, 1, wh_prob)\n",
    "\n",
    "        + bprob(10, 3, yb_prob)\n",
    "        + bprob( 7, 2, wh_prob)) / 5\n",
    "))"
   ]
  },
  {
   "cell_type": "code",
   "execution_count": 12,
   "metadata": {},
   "outputs": [],
   "source": [
    "# k = 6\n",
    "distro.append((\n",
    "    6,\n",
    "    (   bprob(10, 6, yb_prob)\n",
    "    \n",
    "      + bprob(10, 5, yb_prob)\n",
    "      + bprob( 5, 1, wh_prob)\n",
    "\n",
    "      + bprob(10, 4, yb_prob)\n",
    "      + bprob( 6, 2, wh_prob)\n",
    "\n",
    "      + bprob(10, 3, yb_prob)\n",
    "      + bprob( 7, 3, wh_prob)) / 7\n",
    "))"
   ]
  },
  {
   "cell_type": "code",
   "execution_count": 13,
   "metadata": {},
   "outputs": [],
   "source": [
    "# k = 7\n",
    "distro.append((\n",
    "    7,\n",
    "    (     bprob(10, 7, yb_prob)\n",
    "     \n",
    "        + bprob(10, 6, yb_prob)\n",
    "        + bprob( 4, 1, wh_prob)\n",
    "\n",
    "        + bprob(10, 5, yb_prob)\n",
    "        + bprob( 5, 2, wh_prob)\n",
    "\n",
    "        + bprob(10, 4, yb_prob)\n",
    "        + bprob( 6, 3, wh_prob)) / 7\n",
    "))"
   ]
  },
  {
   "cell_type": "code",
   "execution_count": 14,
   "metadata": {},
   "outputs": [],
   "source": [
    "# k = 8\n",
    "distro.append((\n",
    "    8,\n",
    "    (     bprob(10, 8, yb_prob)\n",
    "     \n",
    "        + bprob(10, 7, yb_prob)\n",
    "        + bprob( 3, 1, wh_prob)\n",
    "\n",
    "        + bprob(10, 6, yb_prob)\n",
    "        + bprob( 4, 2, wh_prob)\n",
    "\n",
    "        + bprob(10, 5, yb_prob)\n",
    "        + bprob( 5, 3, wh_prob)) / 7\n",
    "))"
   ]
  },
  {
   "cell_type": "code",
   "execution_count": 15,
   "metadata": {},
   "outputs": [],
   "source": [
    "# k = 9\n",
    "distro.append((\n",
    "    9,\n",
    "    (     bprob(10, 9, yb_prob)\n",
    "     \n",
    "        + bprob(10, 8, yb_prob)\n",
    "        + bprob( 2, 1, wh_prob)\n",
    "\n",
    "        + bprob(10, 7, yb_prob)\n",
    "        + bprob( 3, 2, wh_prob)\n",
    "\n",
    "        + bprob(10, 6, yb_prob)\n",
    "        + bprob( 4, 3, wh_prob)\n",
    "        \n",
    "        + bprob(10, 5, yb_prob)\n",
    "        + bprob( 5, 4, wh_prob)) / 9\n",
    "))"
   ]
  },
  {
   "cell_type": "code",
   "execution_count": 16,
   "metadata": {},
   "outputs": [],
   "source": [
    "# k = 10\n",
    "distro.append((\n",
    "    10,\n",
    "    (     bprob(10, 10, yb_prob)\n",
    "     \n",
    "        + bprob(10, 9, yb_prob)\n",
    "        + bprob( 1, 1, wh_prob)\n",
    "\n",
    "        + bprob(10, 8, yb_prob)\n",
    "        + bprob( 2, 2, wh_prob)\n",
    "\n",
    "        + bprob(10, 7, yb_prob)\n",
    "        + bprob( 3, 3, wh_prob)\n",
    "        \n",
    "        + bprob(10, 6, yb_prob)\n",
    "        + bprob( 4, 4, wh_prob)\n",
    "        \n",
    "        + bprob(10, 5, yb_prob)\n",
    "        + bprob( 5, 5, wh_prob)) / 11\n",
    "))"
   ]
  },
  {
   "cell_type": "code",
   "execution_count": 17,
   "metadata": {},
   "outputs": [
    {
     "data": {
      "text/plain": [
       "<BarContainer object of 11 artists>"
      ]
     },
     "execution_count": 17,
     "metadata": {},
     "output_type": "execute_result"
    },
    {
     "data": {
      "image/png": "[encoded data removed]",
      "text/plain": [
       "<Figure size 640x480 with 1 Axes>"
      ]
     },
     "metadata": {},
     "output_type": "display_data"
    }
   ],
   "source": [
    "import matplotlib.pyplot as plt\n",
    "\n",
    "plt.clf()\n",
    "x_values, y_values = zip(*distro)\n",
    "\n",
    "plt.title(\"\")\n",
    "plt.bar(x_values, y_values, align='center', width=1)"
   ]
  },
  {
   "cell_type": "code",
   "execution_count": 18,
   "metadata": {},
   "outputs": [
    {
     "data": {
      "text/plain": [
       "1.3905615247155172"
      ]
     },
     "execution_count": 18,
     "metadata": {},
     "output_type": "execute_result"
    }
   ],
   "source": [
    "sum(y_values)"
   ]
  },
  {
   "cell_type": "markdown",
   "metadata": {},
   "source": [
    "The above approach cannot be correct, because I am averaging the probability of scoring a particular hit count across an entire distribution.\n",
    "\n",
    "So for example at k=2, the probability of rolling just 1 white in 10 is higher than the probability of rolling just 1 yellow in 10, because the probability of rolling a white is LOWER than the probability of rolling a yellow. So doing it this way disproportionately increases the probability at k=2.\n",
    "\n",
    "This indicates that I need to incorporate the probability of rolling a white at a \"lower level\" of the computation. The effect it should have is to increase the probability of higher hit counts and reduce the probability of lower hit counts."
   ]
  },
  {
   "cell_type": "markdown",
   "metadata": {},
   "source": [
    "I have spiraled around this issue for a while now, and I keep returning to the conclusion that simulation is the easiest way to solve this problem, especially since we have computers to run all the calculations for us! I am still attracted by the idea of developing a formal solution, though."
   ]
  },
  {
   "cell_type": "code",
   "execution_count": 19,
   "metadata": {},
   "outputs": [
    {
     "data": {
      "text/plain": [
       "[(0, 0.004562132974169925),\n",
       " (1, 0.03258666410121376),\n",
       " (2, 0.02792494247849136),\n",
       " (3, 0.0508626302083333),\n",
       " (4, 0.11302806712962958),\n",
       " (5, 0.16483259789737648),\n",
       " (6, 0.06868464465985082),\n",
       " (7, 0.032705299157664604),\n",
       " (8, 0.01022030133115248),\n",
       " (9, 0.0018926445185238774),\n",
       " (10, 0.00015772031194142332)]"
      ]
     },
     "execution_count": 19,
     "metadata": {},
     "output_type": "execute_result"
    }
   ],
   "source": [
    "distro = [\n",
    "    ( 0, math.comb(10,  0) * pow(yb_prob,  0) * pow(1 - yb_prob,  10 - 0)),\n",
    "    ( 1, math.comb(10,  1) * pow(yb_prob,  1) * pow(1 - yb_prob,  10 - 1)),\n",
    "    ( 2, \n",
    "            ((math.comb(10,  2) * pow(yb_prob,  3) * pow(1 - yb_prob,  10 - 2))\n",
    "          + ((math.comb(10, 1) * pow(yb_prob,  1) * math.comb(9, 1) * pow(wh_prob,  1)) * pow(1 - yb_prob - wh_prob,  10 - 2))) /2\n",
    "    ),\n",
    "    ( 3, \n",
    "            ((math.comb(10, 2) * pow(yb_prob,  2) * math.comb(10, 1) * pow(wh_prob,  1)) * pow(1 - yb_prob - wh_prob,  10 - 3))\n",
    "    ),\n",
    "    ( 4, math.comb(10,  3) * (pow(yb_prob,  3) * math.comb(10, 1) * pow(wh_prob,  1)) * pow(1 - yb_prob - wh_prob,  10 - 4)),\n",
    "    ( 5, math.comb(10,  4) * (pow(yb_prob,  4) * math.comb(10 ,1) * pow(wh_prob,  1)) * pow(1 - yb_prob - wh_prob,  10 - 5)),\n",
    "    ( 6, math.comb(10,  6) * (pow(yb_prob,  6) + pow(wh_prob,  6)) * pow(1 - yb_prob - wh_prob,  10 - 6)),\n",
    "    ( 7, math.comb(10,  7) * (pow(yb_prob,  7) + pow(wh_prob,  7)) * pow(1 - yb_prob - wh_prob,  10 - 7)),\n",
    "    ( 8, math.comb(10,  8) * (pow(yb_prob,  8) + pow(wh_prob,  8)) * pow(1 - yb_prob - wh_prob,  10 - 8)),\n",
    "    ( 9, math.comb(10,  9) * (pow(yb_prob,  9) + pow(wh_prob,  9)) * pow(1 - yb_prob - wh_prob,  10 - 9)),\n",
    "    (10, math.comb(10, 10) * (pow(yb_prob, 10) + pow(wh_prob, 10)) * pow(1 - yb_prob - wh_prob, 10 - 10)),\n",
    "]\n",
    "distro"
   ]
  },
  {
   "cell_type": "code",
   "execution_count": 20,
   "metadata": {},
   "outputs": [
    {
     "data": {
      "text/plain": [
       "6"
      ]
     },
     "execution_count": 20,
     "metadata": {},
     "output_type": "execute_result"
    }
   ],
   "source": [
    "# Binomial Coefficient for 4 choose 2\n",
    "# (Y, Y, M, M)\n",
    "# (M, Y, Y, M)\n",
    "# (M, M, Y, Y)\n",
    "# (Y, M, Y, M)\n",
    "# (M, Y, M, Y)\n",
    "# (Y, M, M, Y)\n",
    "math.comb(4, 2)"
   ]
  },
  {
   "cell_type": "code",
   "execution_count": 21,
   "metadata": {},
   "outputs": [
    {
     "data": {
      "text/plain": [
       "12"
      ]
     },
     "execution_count": 21,
     "metadata": {},
     "output_type": "execute_result"
    }
   ],
   "source": [
    "# Binomial Coefficient for 4 choose 2\n",
    "# (Y, W, M, M)\n",
    "# (M, Y, W, M)\n",
    "# (M, M, Y, W)\n",
    "# (W, Y, M, M)\n",
    "# (M, W, Y, M)\n",
    "# (M, M, W, Y)\n",
    "# (Y, M, W, M)\n",
    "# (M, Y, M, W)\n",
    "# (W, M, Y, M)\n",
    "# (M, W, M, Y)\n",
    "# (Y, M, M, W)\n",
    "# (W, M, M, Y)\n",
    "math.comb(4, 2) + math.comb(4, 2)"
   ]
  },
  {
   "cell_type": "code",
   "execution_count": 22,
   "metadata": {},
   "outputs": [],
   "source": [
    "# Compute the number of valid permutations at k out of all possible permutations\n",
    "# x is the number of possible choices, in this case 3 (Y, W, M)\n",
    "def f(n, k, x):\n",
    "    return x * (math.comb(n, k)) / math.pow(n, x)"
   ]
  },
  {
   "cell_type": "code",
   "execution_count": 23,
   "metadata": {},
   "outputs": [
    {
     "data": {
      "text/plain": [
       "[(0, 0.003),\n",
       " (1, 0.03),\n",
       " (2, 0.135),\n",
       " (3, 0.36),\n",
       " (4, 0.63),\n",
       " (5, 0.756),\n",
       " (6, 0.63),\n",
       " (7, 0.36),\n",
       " (8, 0.135),\n",
       " (9, 0.03),\n",
       " (10, 0.003)]"
      ]
     },
     "execution_count": 23,
     "metadata": {},
     "output_type": "execute_result"
    }
   ],
   "source": [
    "distro = [(k, f(10, k, 3)) for k in range(11)]\n",
    "distro"
   ]
  },
  {
   "cell_type": "markdown",
   "metadata": {},
   "source": [
    "This looks like the correct distribution. It needs to be normalized to sum to 1 to be a proper probability distribution."
   ]
  },
  {
   "cell_type": "code",
   "execution_count": 24,
   "metadata": {},
   "outputs": [
    {
     "data": {
      "text/plain": [
       "[(0, 0.0009765625000000002),\n",
       " (1, 0.009765625),\n",
       " (2, 0.04394531250000001),\n",
       " (3, 0.11718750000000001),\n",
       " (4, 0.20507812500000003),\n",
       " (5, 0.24609375000000003),\n",
       " (6, 0.20507812500000003),\n",
       " (7, 0.11718750000000001),\n",
       " (8, 0.04394531250000001),\n",
       " (9, 0.009765625),\n",
       " (10, 0.0009765625000000002)]"
      ]
     },
     "execution_count": 24,
     "metadata": {},
     "output_type": "execute_result"
    }
   ],
   "source": [
    "distro_normalized = [(k, p / sum([p for k, p in distro])) for k, p in distro]\n",
    "distro_normalized"
   ]
  },
  {
   "cell_type": "code",
   "execution_count": 25,
   "metadata": {},
   "outputs": [
    {
     "data": {
      "text/plain": [
       "<BarContainer object of 11 artists>"
      ]
     },
     "execution_count": 25,
     "metadata": {},
     "output_type": "execute_result"
    },
    {
     "data": {
      "image/png": "[encoded data removed]",
      "text/plain": [
       "<Figure size 640x480 with 1 Axes>"
      ]
     },
     "metadata": {},
     "output_type": "display_data"
    }
   ],
   "source": [
    "plt.clf()\n",
    "x_values, y_values = zip(*distro_normalized)\n",
    "\n",
    "plt.title(\"\")\n",
    "plt.bar(x_values, y_values, align='center', width=1)"
   ]
  },
  {
   "cell_type": "markdown",
   "metadata": {},
   "source": [
    "This almost exactly matches what we observed for yellow + wild results in the simulation. But what bugs me is that we never incorporated the probabilities for dice results, so this must be an idealized binomial distribution that just so happens to match up. It still feels like I've discovered a useful formulation here, though. Still need to figure out how to incorporate probabilities..."
   ]
  },
  {
   "cell_type": "code",
   "execution_count": 26,
   "metadata": {},
   "outputs": [],
   "source": [
    "def f(n, k):\n",
    "    yb = (math.comb(n, k)) * yb_prob / math.pow(n, 3)\n",
    "    wh = 2 * (math.comb(n, k)) * wh_prob / math.pow(n, 3)\n",
    "    return (yb + wh) "
   ]
  },
  {
   "cell_type": "code",
   "execution_count": 27,
   "metadata": {},
   "outputs": [
    {
     "data": {
      "text/plain": [
       "([(0, 0.0005833333333333334),\n",
       "  (1, 0.005833333333333333),\n",
       "  (2, 0.02625),\n",
       "  (3, 0.07),\n",
       "  (4, 0.1225),\n",
       "  (5, 0.147),\n",
       "  (6, 0.1225),\n",
       "  (7, 0.07),\n",
       "  (8, 0.02625),\n",
       "  (9, 0.005833333333333333),\n",
       "  (10, 0.0005833333333333334)],\n",
       " 0.5973333333333334)"
      ]
     },
     "execution_count": 27,
     "metadata": {},
     "output_type": "execute_result"
    }
   ],
   "source": [
    "distro = [(k, f(10, k)) for k in range(11)]\n",
    "distro, sum([p for k, p in distro])"
   ]
  },
  {
   "cell_type": "code",
   "execution_count": 28,
   "metadata": {},
   "outputs": [
    {
     "data": {
      "text/plain": [
       "[(0, 0.0009765625),\n",
       " (1, 0.009765624999999998),\n",
       " (2, 0.04394531249999999),\n",
       " (3, 0.1171875),\n",
       " (4, 0.20507812499999997),\n",
       " (5, 0.24609374999999997),\n",
       " (6, 0.20507812499999997),\n",
       " (7, 0.1171875),\n",
       " (8, 0.04394531249999999),\n",
       " (9, 0.009765624999999998),\n",
       " (10, 0.0009765625)]"
      ]
     },
     "execution_count": 28,
     "metadata": {},
     "output_type": "execute_result"
    }
   ],
   "source": [
    "distro_normalized = [(k, p / sum([p for k, p in distro])) for k, p in distro]\n",
    "distro_normalized"
   ]
  },
  {
   "cell_type": "code",
   "execution_count": 29,
   "metadata": {},
   "outputs": [
    {
     "data": {
      "text/plain": [
       "<BarContainer object of 11 artists>"
      ]
     },
     "execution_count": 29,
     "metadata": {},
     "output_type": "execute_result"
    },
    {
     "data": {
      "image/png": "[encoded data removed]",
      "text/plain": [
       "<Figure size 640x480 with 1 Axes>"
      ]
     },
     "metadata": {},
     "output_type": "display_data"
    }
   ],
   "source": [
    "plt.clf()\n",
    "x_values, y_values = zip(*distro_normalized)\n",
    "\n",
    "plt.title(\"\")\n",
    "plt.bar(x_values, y_values, align='center', width=1)"
   ]
  },
  {
   "cell_type": "markdown",
   "metadata": {},
   "source": [
    "## Multinomial Distribution is the Solution!"
   ]
  },
  {
   "cell_type": "code",
   "execution_count": 30,
   "metadata": {},
   "outputs": [],
   "source": [
    "def multinomial(n, cb, cb_prob, wh, wh_prob=1/12):\n",
    "    n_fact = math.factorial(n)\n",
    "    denom = math.factorial(cb) * math.factorial(wh) * math.factorial(n - cb - wh)\n",
    "    return (n_fact / denom) * math.pow(cb_prob, cb) * math.pow(wh_prob, wh) * math.pow(1 - cb_prob - wh_prob, n - cb - wh)"
   ]
  },
  {
   "cell_type": "code",
   "execution_count": 31,
   "metadata": {},
   "outputs": [
    {
     "data": {
      "text/plain": [
       "[(0, 0.16150558288984573),\n",
       " (1, 0.12514114379882812),\n",
       " (2, 0.32301116577969147),\n",
       " (3, 0.18539428710937497),\n",
       " (4, 0.14084966712164415),\n",
       " (5, 0.046142578124999986),\n",
       " (6, 0.015020538610710218),\n",
       " (7, 0.0025544343171296285),\n",
       " (8, 0.0003552554323924832),\n",
       " (9, 2.4466157740816935e-05),\n",
       " (10, 8.806576423817502e-07)]"
      ]
     },
     "execution_count": 31,
     "metadata": {},
     "output_type": "execute_result"
    }
   ],
   "source": [
    "def multinomial_distro(cb_prob):\n",
    "    return [\n",
    "        (0, multinomial(10, 0, cb_prob, 0) + multinomial(10, 0, cb_prob, 1) + multinomial(10, 0, cb_prob, 2) + multinomial(10, 0, cb_prob, 3) + multinomial(10, 0, cb_prob, 4) + multinomial(10, 0, cb_prob, 5) + multinomial(10, 0, cb_prob, 6) + multinomial(10, 0, cb_prob, 7) + multinomial(10, 0, cb_prob, 8) + multinomial(10, 0, cb_prob, 9) + multinomial(10, 0, cb_prob, 10)),\n",
    "        (1, multinomial(10, 1, cb_prob, 0)),\n",
    "        (2, multinomial(10, 2, cb_prob, 0) + multinomial(10, 1, cb_prob, 1) + multinomial(10, 1, cb_prob, 2) + multinomial(10, 1, cb_prob, 3) + multinomial(10, 1, cb_prob, 4) + multinomial(10, 1, cb_prob, 5) + multinomial(10, 1, cb_prob, 6) + multinomial(10, 1, cb_prob, 7) + multinomial(10, 1, cb_prob, 8) + multinomial(10, 1, cb_prob, 9)),\n",
    "        (3, multinomial(10, 3, cb_prob, 0) + multinomial(10, 2, cb_prob, 1)),\n",
    "        (4, multinomial(10, 4, cb_prob, 0) + multinomial(10, 3, cb_prob, 1) + multinomial(10, 2, cb_prob, 2) + multinomial(10, 2, cb_prob, 3) + multinomial(10, 2, cb_prob, 4) + multinomial(10, 2, cb_prob, 5) + multinomial(10, 2, cb_prob, 6) + multinomial(10, 2, cb_prob, 7) + multinomial(10, 2, cb_prob, 8)),\n",
    "        (5, multinomial(10, 5, cb_prob, 0) + multinomial(10, 4, cb_prob, 1) + multinomial(10, 3, cb_prob, 2)),\n",
    "        (6, multinomial(10, 6, cb_prob, 0) + multinomial(10, 5, cb_prob, 1) + multinomial(10, 4, cb_prob, 2) + multinomial(10, 3, cb_prob, 3) + multinomial(10, 3, cb_prob, 4) + multinomial(10, 3, cb_prob, 5) + multinomial(10, 3, cb_prob, 6) + multinomial(10, 3, cb_prob, 7)),\n",
    "        (7, multinomial(10, 7, cb_prob, 0) + multinomial(10, 6, cb_prob, 1) + multinomial(10, 5, cb_prob, 2) + multinomial(10, 4, cb_prob, 3)),\n",
    "        (8, multinomial(10, 8, cb_prob, 0) + multinomial(10, 7, cb_prob, 1) + multinomial(10, 6, cb_prob, 2) + multinomial(10, 5, cb_prob, 3) + multinomial(10, 4, cb_prob, 4) + multinomial(10, 4, cb_prob, 5) + multinomial(10, 4, cb_prob, 6)),\n",
    "        (9, multinomial(10, 9, cb_prob, 0) + multinomial(10, 8, cb_prob, 1) + multinomial(10, 7, cb_prob, 2) + multinomial(10, 6, cb_prob, 3) + multinomial(10, 5, cb_prob, 4)),\n",
    "        (10, multinomial(10, 10, cb_prob, 0) + multinomial(10, 9, cb_prob, 1) + multinomial(10, 8, cb_prob, 2) + multinomial(10, 7, cb_prob, 3) + multinomial(10, 6, cb_prob, 4) + multinomial(10, 5, cb_prob, 5)),\n",
    "    ]\n",
    "\n",
    "multi_distro = multinomial_distro(2/12)\n",
    "multi_distro"
   ]
  },
  {
   "cell_type": "code",
   "execution_count": 32,
   "metadata": {},
   "outputs": [
    {
     "data": {
      "text/plain": [
       "0.9999999999999999"
      ]
     },
     "execution_count": 32,
     "metadata": {},
     "output_type": "execute_result"
    }
   ],
   "source": [
    "sum([p for k, p in multi_distro])"
   ]
  },
  {
   "cell_type": "code",
   "execution_count": 33,
   "metadata": {},
   "outputs": [
    {
     "data": {
      "text/plain": [
       "<BarContainer object of 11 artists>"
      ]
     },
     "execution_count": 33,
     "metadata": {},
     "output_type": "execute_result"
    },
    {
     "data": {
      "image/png": "[encoded data removed]",
      "text/plain": [
       "<Figure size 640x480 with 1 Axes>"
      ]
     },
     "metadata": {},
     "output_type": "display_data"
    }
   ],
   "source": [
    "plt.clf()\n",
    "x_values, y_values = zip(*multi_distro)\n",
    "\n",
    "plt.title(\"\")\n",
    "plt.bar(x_values, y_values, align='center', width=1)"
   ]
  },
  {
   "cell_type": "markdown",
   "metadata": {},
   "source": [
    "## How to generalize this as a formula?\n",
    "\n",
    "The best idea I have is to compute a matrix that represents the results of each combination of colored plus white dice rolls..."
   ]
  },
  {
   "cell_type": "code",
   "execution_count": 34,
   "metadata": {},
   "outputs": [
    {
     "name": "stdout",
     "output_type": "stream",
     "text": [
      "   0  1  2  3  4\n",
      "0  0  0  0  0  0\n",
      "1  1  2  2  2 -1\n",
      "2  2  3  4 -1 -1\n",
      "3  3  4 -1 -1 -1\n",
      "4  4 -1 -1 -1 -1\n"
     ]
    },
    {
     "name": "stderr",
     "output_type": "stream",
     "text": [
      "/var/folders/kh/66486p_9469202_9rm3n31_h0000gn/T/ipykernel_89645/2639250043.py:1: DeprecationWarning: \n",
      "Pyarrow will become a required dependency of pandas in the next major release of pandas (pandas 3.0),\n",
      "(to allow more performant data types, such as the Arrow string type, and better interoperability with other libraries)\n",
      "but was not found to be installed on your system.\n",
      "If this would cause problems for you,\n",
      "please provide us feedback at https://github.com/pandas-dev/pandas/issues/54466\n",
      "        \n",
      "  import pandas as pd\n"
     ]
    }
   ],
   "source": [
    "import pandas as pd\n",
    "\n",
    "n = 4\n",
    "c = [i for i in range(n + 1)]\n",
    "w = [i for i in range(n + 1)]\n",
    "\n",
    "data = [[-1 if c_val + w_val > n else c_val + min(w_val, c_val) for w_val in w] for c_val in c]\n",
    "\n",
    "# Create a DataFrame from the list of lists\n",
    "df = pd.DataFrame(data, index=c, columns=w)\n",
    "\n",
    "# Display the DataFrame\n",
    "print(df)"
   ]
  },
  {
   "cell_type": "markdown",
   "metadata": {},
   "source": [
    "Now that we have this matrix, we can iterate $k={0...10}$ and find the matching coordinate pairs for each value. Then we can compute and sum the multinomial probability of each.\n",
    "\n",
    "Here's an example finding all matching pairs for $k=8$:"
   ]
  },
  {
   "cell_type": "code",
   "execution_count": 35,
   "metadata": {},
   "outputs": [
    {
     "name": "stdout",
     "output_type": "stream",
     "text": [
      "Matching coordinates for value 8 :\n"
     ]
    }
   ],
   "source": [
    "value_to_find = 8\n",
    "\n",
    "# Use the `stack` method to convert the DataFrame to a Series and then use `loc` to find the indices\n",
    "indices = df.stack().loc[df.stack() == value_to_find].index\n",
    "\n",
    "# Display the result\n",
    "print(\"Matching coordinates for value\", value_to_find, \":\")\n",
    "for index in indices:\n",
    "    print(index)\n"
   ]
  },
  {
   "cell_type": "code",
   "execution_count": 36,
   "metadata": {},
   "outputs": [
    {
     "data": {
      "text/plain": [
       "[(0, 0.004525643807870366),\n",
       " (1, 0.008138020833333325),\n",
       " (2, 0.054027416087962916),\n",
       " (3, 0.10850694444444436),\n",
       " (4, 0.20175509982638878),\n",
       " (5, 0),\n",
       " (6, 0),\n",
       " (7, 0),\n",
       " (8, 0),\n",
       " (9, 0),\n",
       " (10, 0)]"
      ]
     },
     "execution_count": 36,
     "metadata": {},
     "output_type": "execute_result"
    }
   ],
   "source": [
    "n = 10\n",
    "yb_prob = 5/12\n",
    "\n",
    "result = []\n",
    "for k in range(11):\n",
    "    matched = df.stack().loc[df.stack() == k].index\n",
    "    result.append((k, sum([multinomial(n, y, yb_prob, w) for y, w in matched])))\n",
    "\n",
    "result"
   ]
  },
  {
   "cell_type": "markdown",
   "metadata": {},
   "source": [
    "Putting that all together into a callable function..."
   ]
  },
  {
   "cell_type": "code",
   "execution_count": 37,
   "metadata": {},
   "outputs": [
    {
     "data": {
      "text/html": [
       "<div>\n",
       "<style scoped>\n",
       "    .dataframe tbody tr th:only-of-type {\n",
       "        vertical-align: middle;\n",
       "    }\n",
       "\n",
       "    .dataframe tbody tr th {\n",
       "        vertical-align: top;\n",
       "    }\n",
       "\n",
       "    .dataframe thead th {\n",
       "        text-align: right;\n",
       "    }\n",
       "</style>\n",
       "<table border=\"1\" class=\"dataframe\">\n",
       "  <thead>\n",
       "    <tr style=\"text-align: right;\">\n",
       "      <th></th>\n",
       "      <th>0</th>\n",
       "      <th>1</th>\n",
       "      <th>2</th>\n",
       "      <th>3</th>\n",
       "      <th>4</th>\n",
       "    </tr>\n",
       "  </thead>\n",
       "  <tbody>\n",
       "    <tr>\n",
       "      <th>0</th>\n",
       "      <td>0</td>\n",
       "      <td>0</td>\n",
       "      <td>0</td>\n",
       "      <td>0</td>\n",
       "      <td>0</td>\n",
       "    </tr>\n",
       "    <tr>\n",
       "      <th>1</th>\n",
       "      <td>1</td>\n",
       "      <td>2</td>\n",
       "      <td>2</td>\n",
       "      <td>2</td>\n",
       "      <td>-1</td>\n",
       "    </tr>\n",
       "    <tr>\n",
       "      <th>2</th>\n",
       "      <td>2</td>\n",
       "      <td>3</td>\n",
       "      <td>4</td>\n",
       "      <td>-1</td>\n",
       "      <td>-1</td>\n",
       "    </tr>\n",
       "    <tr>\n",
       "      <th>3</th>\n",
       "      <td>3</td>\n",
       "      <td>4</td>\n",
       "      <td>-1</td>\n",
       "      <td>-1</td>\n",
       "      <td>-1</td>\n",
       "    </tr>\n",
       "    <tr>\n",
       "      <th>4</th>\n",
       "      <td>4</td>\n",
       "      <td>-1</td>\n",
       "      <td>-1</td>\n",
       "      <td>-1</td>\n",
       "      <td>-1</td>\n",
       "    </tr>\n",
       "  </tbody>\n",
       "</table>\n",
       "</div>"
      ],
      "text/plain": [
       "   0  1  2  3  4\n",
       "0  0  0  0  0  0\n",
       "1  1  2  2  2 -1\n",
       "2  2  3  4 -1 -1\n",
       "3  3  4 -1 -1 -1\n",
       "4  4 -1 -1 -1 -1"
      ]
     },
     "execution_count": 37,
     "metadata": {},
     "output_type": "execute_result"
    }
   ],
   "source": [
    "def make_lookup(n):\n",
    "    c = [i for i in range(n + 1)]\n",
    "    w = [i for i in range(n + 1)]\n",
    "    lookup = [[-1 if c_val + w_val > n else c_val + min(w_val, c_val) for w_val in w] for c_val in c]\n",
    "    return pd.DataFrame(lookup, index=c, columns=w)\n",
    "\n",
    "make_lookup(4)"
   ]
  },
  {
   "cell_type": "code",
   "execution_count": 38,
   "metadata": {},
   "outputs": [],
   "source": [
    "def compute_multinomial_distribution(n, c_prob, w_prob):\n",
    "    df_lookup = make_lookup(n)\n",
    "\n",
    "    result = []\n",
    "    for k in range(11):\n",
    "        matched = df_lookup.stack().loc[df_lookup.stack() == k].index\n",
    "        result.append((k, sum([multinomial(n, y, c_prob, w, w_prob) for y, w in matched])))\n",
    "    return result"
   ]
  },
  {
   "cell_type": "code",
   "execution_count": 39,
   "metadata": {},
   "outputs": [
    {
     "data": {
      "text/plain": [
       "<BarContainer object of 11 artists>"
      ]
     },
     "execution_count": 39,
     "metadata": {},
     "output_type": "execute_result"
    },
    {
     "data": {
      "image/png": "[encoded data removed]",
      "text/plain": [
       "<Figure size 640x480 with 1 Axes>"
      ]
     },
     "metadata": {},
     "output_type": "display_data"
    }
   ],
   "source": [
    "n = 10\n",
    "c_prob = 4/12\n",
    "w_prob = 1/12\n",
    "\n",
    "multi_distro = compute_multinomial_distribution(n, c_prob, w_prob)\n",
    "\n",
    "plt.clf()\n",
    "x_values, y_values = zip(*multi_distro)\n",
    "plt.title(\"\")\n",
    "plt.bar(x_values, y_values, align='center', width=1)"
   ]
  },
  {
   "cell_type": "markdown",
   "metadata": {},
   "source": [
    "I thought of another possible way to do the multinomial such that we don't need a lookup. We could take the min of cb, wb, denoted $cb\\vee wh$. In addition, we can loop over all combos instead of using a lookup table..."
   ]
  },
  {
   "cell_type": "code",
   "execution_count": 40,
   "metadata": {},
   "outputs": [
    {
     "data": {
      "text/plain": [
       "{0: 0.004562132974169927,\n",
       " 1: 0.008138020833333325,\n",
       " 2: 0.05496622139288042,\n",
       " 3: 0.10850694444444436,\n",
       " 4: 0.2115543723342585,\n",
       " 5: 0.23735894097222215,\n",
       " 6: 0.20531857515782867,\n",
       " 7: 0.11512117948388202,\n",
       " 8: 0.04382120886451253,\n",
       " 9: 0.009678222054674005,\n",
       " 10: 0.0009741814877936884}"
      ]
     },
     "execution_count": 40,
     "metadata": {},
     "output_type": "execute_result"
    }
   ],
   "source": [
    "n = 10\n",
    "c_prob = 5/12\n",
    "w_prob = 1/12\n",
    "\n",
    "results = {}\n",
    "for y in range(n+1):\n",
    "    for w in range(n+1):\n",
    "        if y + w > 10: continue\n",
    "        k = y + min(y, w)\n",
    "        if k not in results:\n",
    "            results[k] = 0\n",
    "        results[k] += multinomial(n, y, c_prob, w, w_prob)\n",
    "\n",
    "results"
   ]
  },
  {
   "cell_type": "code",
   "execution_count": 41,
   "metadata": {},
   "outputs": [
    {
     "data": {
      "text/plain": [
       "0.9999999999999998"
      ]
     },
     "execution_count": 41,
     "metadata": {},
     "output_type": "execute_result"
    }
   ],
   "source": [
    "sum([p for k, p in results.items()])"
   ]
  },
  {
   "cell_type": "code",
   "execution_count": 46,
   "metadata": {},
   "outputs": [
    {
     "data": {
      "text/plain": [
       "0.23735894097222215"
      ]
     },
     "execution_count": 46,
     "metadata": {},
     "output_type": "execute_result"
    }
   ],
   "source": [
    "def multi_by_k(k, n, c_prob, w_prob):\n",
    "    return sum([multinomial(n, c, c_prob, w, w_prob) for c in range(n + 1) for w in range(n + 1) if c + w <= n and c + min(c, w) == k])\n",
    "\n",
    "multi_by_k(5, 10, 5/12, 1/12)"
   ]
  },
  {
   "cell_type": "markdown",
   "metadata": {},
   "source": [
    "Now if we want to get the probability of $Z$ for a given number of hits $k$, we can use the following formula:\n",
    "\n",
    "$$\n",
    "P(Z = k) = \\sum_{{c=0}}^{n+1} \\sum_{{w=0}}^{n+1} \\frac{n!}{c!w!} \\cdot {p_c}^c {p_w}^w \\cdot [c + c \\vee w) = k] \\cdot [c + w < n]\n",
    "$$\n",
    "\n",
    "where:\n",
    "- $n$ represents the total number of trials\n",
    "- $c$ represents the number of colored outcomes\n",
    "- $p_c$ represents the probability of a colored outcome\n",
    "- $w$ represents the number of white outcomes\n",
    "- $p_w$ represents the probability of a white outcome\n",
    "- $k$ represents the desired value of the sum of colored and minimum of colored and white outcomes and $0 \\leq k \\leq n$\n",
    "- $\\vee$ represents the min function"
   ]
  }
 ],
 "metadata": {
  "kernelspec": {
   "display_name": ".venv",
   "language": "python",
   "name": "python3"
  },
  "language_info": {
   "codemirror_mode": {
    "name": "ipython",
    "version": 3
   },
   "file_extension": ".py",
   "mimetype": "text/x-python",
   "name": "python",
   "nbconvert_exporter": "python",
   "pygments_lexer": "ipython3",
   "version": "3.10.13"
  }
 },
 "nbformat": 4,
 "nbformat_minor": 2
}
